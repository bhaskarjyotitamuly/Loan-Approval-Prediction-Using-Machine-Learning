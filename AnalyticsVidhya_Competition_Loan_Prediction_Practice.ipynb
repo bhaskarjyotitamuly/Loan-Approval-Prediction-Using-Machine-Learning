{
  "nbformat": 4,
  "nbformat_minor": 0,
  "metadata": {
    "kernelspec": {
      "display_name": "Python 3",
      "language": "python",
      "name": "python3"
    },
    "language_info": {
      "codemirror_mode": {
        "name": "ipython",
        "version": 3
      },
      "file_extension": ".py",
      "mimetype": "text/x-python",
      "name": "python",
      "nbconvert_exporter": "python",
      "pygments_lexer": "ipython3",
      "version": "3.7.4"
    },
    "colab": {
      "name": "AnalyticsVidhya Competition - Loan Prediction Practice.ipynb",
      "provenance": [],
      "collapsed_sections": [
        "1xOob66JGWV3",
        "4hsgN88l7RZC",
        "DVdYTZgU8c0o",
        "kzSR5In_9pOA"
      ],
      "include_colab_link": true
    }
  },
  "cells": [
    {
      "cell_type": "markdown",
      "metadata": {
        "id": "view-in-github",
        "colab_type": "text"
      },
      "source": [
        "<a href=\"https://colab.research.google.com/github/bhaskarjyotitamuly/Loan-Approval-Prediction-/blob/main/AnalyticsVidhya_Competition_Loan_Prediction_Practice.ipynb\" target=\"_parent\"><img src=\"https://colab.research.google.com/assets/colab-badge.svg\" alt=\"Open In Colab\"/></a>"
      ]
    },
    {
      "cell_type": "markdown",
      "metadata": {
        "id": "L2znzzor2xIt"
      },
      "source": [
        "### Analytics Vidhya Problem - Loan Prediction"
      ]
    },
    {
      "cell_type": "markdown",
      "metadata": {
        "id": "x8YKipAA2pad"
      },
      "source": [
        "Dream Housing Finance company deals in all kinds of home loans. They have presence across all urban, semi urban and rural areas. Customer first applies for home loan and after that company validates the customer eligibility for loan.\n",
        "\n",
        "Company wants to automate the loan eligibility process (real time) based on customer detail provided while filling online application form. These details are Gender, Marital Status, Education, Number of Dependents, Income, Loan Amount, Credit History and others. To automate this process, they have provided a dataset to identify the customers segments that are eligible for loan amount so that they can specifically target these customers. "
      ]
    },
    {
      "cell_type": "code",
      "metadata": {
        "colab": {
          "base_uri": "https://localhost:8080/"
        },
        "id": "vDNrz_eHGXgo",
        "outputId": "4a2020fe-bdd9-44c8-bb0f-8d4c1e8e86c1"
      },
      "source": [
        "from google.colab import drive\n",
        "drive.mount('/content/gdrive')"
      ],
      "execution_count": 153,
      "outputs": [
        {
          "output_type": "stream",
          "text": [
            "Drive already mounted at /content/gdrive; to attempt to forcibly remount, call drive.mount(\"/content/gdrive\", force_remount=True).\n"
          ],
          "name": "stdout"
        }
      ]
    },
    {
      "cell_type": "code",
      "metadata": {
        "id": "ZsfQWZHlGWVi"
      },
      "source": [
        "from sklearn.linear_model import LogisticRegression\n",
        "from sklearn.ensemble import AdaBoostClassifier,RandomForestClassifier, BaggingClassifier, GradientBoostingClassifier\n",
        "from sklearn.tree import DecisionTreeClassifier\n",
        "from xgboost import XGBClassifier,plot_importance\n",
        "from sklearn.model_selection import GridSearchCV\n",
        "from sklearn.preprocessing import MinMaxScaler\n",
        "import tensorflow as tf\n",
        "from sklearn.model_selection import train_test_split\n",
        "from sklearn.metrics import roc_auc_score,precision_score,f1_score,recall_score,accuracy_score"
      ],
      "execution_count": 154,
      "outputs": []
    },
    {
      "cell_type": "code",
      "metadata": {
        "id": "w3qMRPpbGWVq"
      },
      "source": [
        "import pandas as pd\n",
        "import numpy as np\n",
        "import matplotlib.pyplot as plt\n",
        "import seaborn as sns\n",
        "import warnings\n",
        "warnings.filterwarnings('ignore')"
      ],
      "execution_count": 155,
      "outputs": []
    },
    {
      "cell_type": "code",
      "metadata": {
        "id": "3172hePkGWVr"
      },
      "source": [
        "pd.set_option('max_rows',100)\n",
        "pd.set_option('max_columns',100)"
      ],
      "execution_count": 156,
      "outputs": []
    },
    {
      "cell_type": "code",
      "metadata": {
        "id": "LTIvG_JQLXGo"
      },
      "source": [
        "data = pd.read_csv('/content/gdrive/MyDrive/loan_prediction_practice_train.csv')\n",
        "test = pd.read_csv('/content/gdrive/MyDrive/loan_prediction_practice_test.csv')"
      ],
      "execution_count": 157,
      "outputs": []
    },
    {
      "cell_type": "markdown",
      "metadata": {
        "id": "Hk8GY20EGWVt"
      },
      "source": [
        "### EDA :"
      ]
    },
    {
      "cell_type": "code",
      "metadata": {
        "colab": {
          "base_uri": "https://localhost:8080/",
          "height": 195
        },
        "id": "Nda3qagQI0zX",
        "outputId": "8712ddd3-f31d-4de0-c94d-807b1b2979aa"
      },
      "source": [
        "data.head()"
      ],
      "execution_count": 158,
      "outputs": [
        {
          "output_type": "execute_result",
          "data": {
            "text/html": [
              "<div>\n",
              "<style scoped>\n",
              "    .dataframe tbody tr th:only-of-type {\n",
              "        vertical-align: middle;\n",
              "    }\n",
              "\n",
              "    .dataframe tbody tr th {\n",
              "        vertical-align: top;\n",
              "    }\n",
              "\n",
              "    .dataframe thead th {\n",
              "        text-align: right;\n",
              "    }\n",
              "</style>\n",
              "<table border=\"1\" class=\"dataframe\">\n",
              "  <thead>\n",
              "    <tr style=\"text-align: right;\">\n",
              "      <th></th>\n",
              "      <th>Loan_ID</th>\n",
              "      <th>Gender</th>\n",
              "      <th>Married</th>\n",
              "      <th>Dependents</th>\n",
              "      <th>Education</th>\n",
              "      <th>Self_Employed</th>\n",
              "      <th>ApplicantIncome</th>\n",
              "      <th>CoapplicantIncome</th>\n",
              "      <th>LoanAmount</th>\n",
              "      <th>Loan_Amount_Term</th>\n",
              "      <th>Credit_History</th>\n",
              "      <th>Property_Area</th>\n",
              "      <th>Loan_Status</th>\n",
              "    </tr>\n",
              "  </thead>\n",
              "  <tbody>\n",
              "    <tr>\n",
              "      <th>0</th>\n",
              "      <td>LP001002</td>\n",
              "      <td>Male</td>\n",
              "      <td>No</td>\n",
              "      <td>0</td>\n",
              "      <td>Graduate</td>\n",
              "      <td>No</td>\n",
              "      <td>5849</td>\n",
              "      <td>0.0</td>\n",
              "      <td>NaN</td>\n",
              "      <td>360.0</td>\n",
              "      <td>1.0</td>\n",
              "      <td>Urban</td>\n",
              "      <td>Y</td>\n",
              "    </tr>\n",
              "    <tr>\n",
              "      <th>1</th>\n",
              "      <td>LP001003</td>\n",
              "      <td>Male</td>\n",
              "      <td>Yes</td>\n",
              "      <td>1</td>\n",
              "      <td>Graduate</td>\n",
              "      <td>No</td>\n",
              "      <td>4583</td>\n",
              "      <td>1508.0</td>\n",
              "      <td>128.0</td>\n",
              "      <td>360.0</td>\n",
              "      <td>1.0</td>\n",
              "      <td>Rural</td>\n",
              "      <td>N</td>\n",
              "    </tr>\n",
              "    <tr>\n",
              "      <th>2</th>\n",
              "      <td>LP001005</td>\n",
              "      <td>Male</td>\n",
              "      <td>Yes</td>\n",
              "      <td>0</td>\n",
              "      <td>Graduate</td>\n",
              "      <td>Yes</td>\n",
              "      <td>3000</td>\n",
              "      <td>0.0</td>\n",
              "      <td>66.0</td>\n",
              "      <td>360.0</td>\n",
              "      <td>1.0</td>\n",
              "      <td>Urban</td>\n",
              "      <td>Y</td>\n",
              "    </tr>\n",
              "    <tr>\n",
              "      <th>3</th>\n",
              "      <td>LP001006</td>\n",
              "      <td>Male</td>\n",
              "      <td>Yes</td>\n",
              "      <td>0</td>\n",
              "      <td>Not Graduate</td>\n",
              "      <td>No</td>\n",
              "      <td>2583</td>\n",
              "      <td>2358.0</td>\n",
              "      <td>120.0</td>\n",
              "      <td>360.0</td>\n",
              "      <td>1.0</td>\n",
              "      <td>Urban</td>\n",
              "      <td>Y</td>\n",
              "    </tr>\n",
              "    <tr>\n",
              "      <th>4</th>\n",
              "      <td>LP001008</td>\n",
              "      <td>Male</td>\n",
              "      <td>No</td>\n",
              "      <td>0</td>\n",
              "      <td>Graduate</td>\n",
              "      <td>No</td>\n",
              "      <td>6000</td>\n",
              "      <td>0.0</td>\n",
              "      <td>141.0</td>\n",
              "      <td>360.0</td>\n",
              "      <td>1.0</td>\n",
              "      <td>Urban</td>\n",
              "      <td>Y</td>\n",
              "    </tr>\n",
              "  </tbody>\n",
              "</table>\n",
              "</div>"
            ],
            "text/plain": [
              "    Loan_ID Gender Married Dependents     Education Self_Employed  \\\n",
              "0  LP001002   Male      No          0      Graduate            No   \n",
              "1  LP001003   Male     Yes          1      Graduate            No   \n",
              "2  LP001005   Male     Yes          0      Graduate           Yes   \n",
              "3  LP001006   Male     Yes          0  Not Graduate            No   \n",
              "4  LP001008   Male      No          0      Graduate            No   \n",
              "\n",
              "   ApplicantIncome  CoapplicantIncome  LoanAmount  Loan_Amount_Term  \\\n",
              "0             5849                0.0         NaN             360.0   \n",
              "1             4583             1508.0       128.0             360.0   \n",
              "2             3000                0.0        66.0             360.0   \n",
              "3             2583             2358.0       120.0             360.0   \n",
              "4             6000                0.0       141.0             360.0   \n",
              "\n",
              "   Credit_History Property_Area Loan_Status  \n",
              "0             1.0         Urban           Y  \n",
              "1             1.0         Rural           N  \n",
              "2             1.0         Urban           Y  \n",
              "3             1.0         Urban           Y  \n",
              "4             1.0         Urban           Y  "
            ]
          },
          "metadata": {
            "tags": []
          },
          "execution_count": 158
        }
      ]
    },
    {
      "cell_type": "code",
      "metadata": {
        "colab": {
          "base_uri": "https://localhost:8080/",
          "height": 195
        },
        "id": "odduHM1hBOPw",
        "outputId": "f163cd27-d9a1-4706-b80e-0965c4a3745f"
      },
      "source": [
        "test.head()"
      ],
      "execution_count": 159,
      "outputs": [
        {
          "output_type": "execute_result",
          "data": {
            "text/html": [
              "<div>\n",
              "<style scoped>\n",
              "    .dataframe tbody tr th:only-of-type {\n",
              "        vertical-align: middle;\n",
              "    }\n",
              "\n",
              "    .dataframe tbody tr th {\n",
              "        vertical-align: top;\n",
              "    }\n",
              "\n",
              "    .dataframe thead th {\n",
              "        text-align: right;\n",
              "    }\n",
              "</style>\n",
              "<table border=\"1\" class=\"dataframe\">\n",
              "  <thead>\n",
              "    <tr style=\"text-align: right;\">\n",
              "      <th></th>\n",
              "      <th>Loan_ID</th>\n",
              "      <th>Gender</th>\n",
              "      <th>Married</th>\n",
              "      <th>Dependents</th>\n",
              "      <th>Education</th>\n",
              "      <th>Self_Employed</th>\n",
              "      <th>ApplicantIncome</th>\n",
              "      <th>CoapplicantIncome</th>\n",
              "      <th>LoanAmount</th>\n",
              "      <th>Loan_Amount_Term</th>\n",
              "      <th>Credit_History</th>\n",
              "      <th>Property_Area</th>\n",
              "    </tr>\n",
              "  </thead>\n",
              "  <tbody>\n",
              "    <tr>\n",
              "      <th>0</th>\n",
              "      <td>LP001015</td>\n",
              "      <td>Male</td>\n",
              "      <td>Yes</td>\n",
              "      <td>0</td>\n",
              "      <td>Graduate</td>\n",
              "      <td>No</td>\n",
              "      <td>5720</td>\n",
              "      <td>0</td>\n",
              "      <td>110.0</td>\n",
              "      <td>360.0</td>\n",
              "      <td>1.0</td>\n",
              "      <td>Urban</td>\n",
              "    </tr>\n",
              "    <tr>\n",
              "      <th>1</th>\n",
              "      <td>LP001022</td>\n",
              "      <td>Male</td>\n",
              "      <td>Yes</td>\n",
              "      <td>1</td>\n",
              "      <td>Graduate</td>\n",
              "      <td>No</td>\n",
              "      <td>3076</td>\n",
              "      <td>1500</td>\n",
              "      <td>126.0</td>\n",
              "      <td>360.0</td>\n",
              "      <td>1.0</td>\n",
              "      <td>Urban</td>\n",
              "    </tr>\n",
              "    <tr>\n",
              "      <th>2</th>\n",
              "      <td>LP001031</td>\n",
              "      <td>Male</td>\n",
              "      <td>Yes</td>\n",
              "      <td>2</td>\n",
              "      <td>Graduate</td>\n",
              "      <td>No</td>\n",
              "      <td>5000</td>\n",
              "      <td>1800</td>\n",
              "      <td>208.0</td>\n",
              "      <td>360.0</td>\n",
              "      <td>1.0</td>\n",
              "      <td>Urban</td>\n",
              "    </tr>\n",
              "    <tr>\n",
              "      <th>3</th>\n",
              "      <td>LP001035</td>\n",
              "      <td>Male</td>\n",
              "      <td>Yes</td>\n",
              "      <td>2</td>\n",
              "      <td>Graduate</td>\n",
              "      <td>No</td>\n",
              "      <td>2340</td>\n",
              "      <td>2546</td>\n",
              "      <td>100.0</td>\n",
              "      <td>360.0</td>\n",
              "      <td>NaN</td>\n",
              "      <td>Urban</td>\n",
              "    </tr>\n",
              "    <tr>\n",
              "      <th>4</th>\n",
              "      <td>LP001051</td>\n",
              "      <td>Male</td>\n",
              "      <td>No</td>\n",
              "      <td>0</td>\n",
              "      <td>Not Graduate</td>\n",
              "      <td>No</td>\n",
              "      <td>3276</td>\n",
              "      <td>0</td>\n",
              "      <td>78.0</td>\n",
              "      <td>360.0</td>\n",
              "      <td>1.0</td>\n",
              "      <td>Urban</td>\n",
              "    </tr>\n",
              "  </tbody>\n",
              "</table>\n",
              "</div>"
            ],
            "text/plain": [
              "    Loan_ID Gender Married Dependents     Education Self_Employed  \\\n",
              "0  LP001015   Male     Yes          0      Graduate            No   \n",
              "1  LP001022   Male     Yes          1      Graduate            No   \n",
              "2  LP001031   Male     Yes          2      Graduate            No   \n",
              "3  LP001035   Male     Yes          2      Graduate            No   \n",
              "4  LP001051   Male      No          0  Not Graduate            No   \n",
              "\n",
              "   ApplicantIncome  CoapplicantIncome  LoanAmount  Loan_Amount_Term  \\\n",
              "0             5720                  0       110.0             360.0   \n",
              "1             3076               1500       126.0             360.0   \n",
              "2             5000               1800       208.0             360.0   \n",
              "3             2340               2546       100.0             360.0   \n",
              "4             3276                  0        78.0             360.0   \n",
              "\n",
              "   Credit_History Property_Area  \n",
              "0             1.0         Urban  \n",
              "1             1.0         Urban  \n",
              "2             1.0         Urban  \n",
              "3             NaN         Urban  \n",
              "4             1.0         Urban  "
            ]
          },
          "metadata": {
            "tags": []
          },
          "execution_count": 159
        }
      ]
    },
    {
      "cell_type": "code",
      "metadata": {
        "colab": {
          "base_uri": "https://localhost:8080/"
        },
        "id": "_u9QTeVR2eee",
        "outputId": "8d7944a8-3b23-43a3-c6c7-a203c690c53b"
      },
      "source": [
        "data.shape"
      ],
      "execution_count": 160,
      "outputs": [
        {
          "output_type": "execute_result",
          "data": {
            "text/plain": [
              "(614, 13)"
            ]
          },
          "metadata": {
            "tags": []
          },
          "execution_count": 160
        }
      ]
    },
    {
      "cell_type": "markdown",
      "metadata": {
        "id": "vPhOVg9SlWoM"
      },
      "source": [
        ""
      ]
    },
    {
      "cell_type": "code",
      "metadata": {
        "colab": {
          "base_uri": "https://localhost:8080/"
        },
        "id": "UBkJhe0X2g_n",
        "outputId": "b68c3b13-e7d1-4178-c22f-d614a80f97d2"
      },
      "source": [
        "test.shape"
      ],
      "execution_count": 161,
      "outputs": [
        {
          "output_type": "execute_result",
          "data": {
            "text/plain": [
              "(367, 12)"
            ]
          },
          "metadata": {
            "tags": []
          },
          "execution_count": 161
        }
      ]
    },
    {
      "cell_type": "code",
      "metadata": {
        "colab": {
          "base_uri": "https://localhost:8080/"
        },
        "id": "YKXB9EBL2j27",
        "outputId": "5ef8ce4d-8a52-421b-b8e8-104314f85e76"
      },
      "source": [
        "data['Credit_History'].value_counts()"
      ],
      "execution_count": 162,
      "outputs": [
        {
          "output_type": "execute_result",
          "data": {
            "text/plain": [
              "1.0    475\n",
              "0.0     89\n",
              "Name: Credit_History, dtype: int64"
            ]
          },
          "metadata": {
            "tags": []
          },
          "execution_count": 162
        }
      ]
    },
    {
      "cell_type": "code",
      "metadata": {
        "colab": {
          "base_uri": "https://localhost:8080/",
          "height": 35
        },
        "id": "jpFyrAcVJbny",
        "outputId": "5197a32c-c1c8-4b00-e183-b822f36176b9"
      },
      "source": [
        "# Making use of 'Loan_ID' as well as a variable in case it added some value to the predictions. \n",
        "'''data['Loan_ID'] = data['Loan_ID'].str.lstrip('LP00')\n",
        "data['Loan_ID'].head()'''"
      ],
      "execution_count": 163,
      "outputs": [
        {
          "output_type": "execute_result",
          "data": {
            "application/vnd.google.colaboratory.intrinsic+json": {
              "type": "string"
            },
            "text/plain": [
              "\"data['Loan_ID'] = data['Loan_ID'].str.lstrip('LP00')\\ndata['Loan_ID'].head()\""
            ]
          },
          "metadata": {
            "tags": []
          },
          "execution_count": 163
        }
      ]
    },
    {
      "cell_type": "code",
      "metadata": {
        "id": "JZt87Jk0JyJO",
        "colab": {
          "base_uri": "https://localhost:8080/",
          "height": 35
        },
        "outputId": "29d4ce5d-613e-4a1a-c064-d27af92f5b50"
      },
      "source": [
        "# Loan_ID didn't add any value to the analysis,so these code lines are commented\n",
        "'''data['Loan_ID'] = data['Loan_ID'].astype(int)'''"
      ],
      "execution_count": 164,
      "outputs": [
        {
          "output_type": "execute_result",
          "data": {
            "application/vnd.google.colaboratory.intrinsic+json": {
              "type": "string"
            },
            "text/plain": [
              "\"data['Loan_ID'] = data['Loan_ID'].astype(int)\""
            ]
          },
          "metadata": {
            "tags": []
          },
          "execution_count": 164
        }
      ]
    },
    {
      "cell_type": "code",
      "metadata": {
        "colab": {
          "base_uri": "https://localhost:8080/"
        },
        "id": "QJIcUqmIJ55Q",
        "outputId": "85a9aa54-fa23-4b3e-d164-1b459a1d0c06"
      },
      "source": [
        "data.isnull().mean()"
      ],
      "execution_count": 165,
      "outputs": [
        {
          "output_type": "execute_result",
          "data": {
            "text/plain": [
              "Loan_ID              0.000000\n",
              "Gender               0.021173\n",
              "Married              0.004886\n",
              "Dependents           0.024430\n",
              "Education            0.000000\n",
              "Self_Employed        0.052117\n",
              "ApplicantIncome      0.000000\n",
              "CoapplicantIncome    0.000000\n",
              "LoanAmount           0.035831\n",
              "Loan_Amount_Term     0.022801\n",
              "Credit_History       0.081433\n",
              "Property_Area        0.000000\n",
              "Loan_Status          0.000000\n",
              "dtype: float64"
            ]
          },
          "metadata": {
            "tags": []
          },
          "execution_count": 165
        }
      ]
    },
    {
      "cell_type": "code",
      "metadata": {
        "colab": {
          "base_uri": "https://localhost:8080/"
        },
        "id": "ufVXfR-EX6vt",
        "outputId": "a282a666-9c20-41f0-ab2c-c82aff0c7998"
      },
      "source": [
        "test.isnull().mean()"
      ],
      "execution_count": 166,
      "outputs": [
        {
          "output_type": "execute_result",
          "data": {
            "text/plain": [
              "Loan_ID              0.000000\n",
              "Gender               0.029973\n",
              "Married              0.000000\n",
              "Dependents           0.027248\n",
              "Education            0.000000\n",
              "Self_Employed        0.062670\n",
              "ApplicantIncome      0.000000\n",
              "CoapplicantIncome    0.000000\n",
              "LoanAmount           0.013624\n",
              "Loan_Amount_Term     0.016349\n",
              "Credit_History       0.079019\n",
              "Property_Area        0.000000\n",
              "dtype: float64"
            ]
          },
          "metadata": {
            "tags": []
          },
          "execution_count": 166
        }
      ]
    },
    {
      "cell_type": "code",
      "metadata": {
        "colab": {
          "base_uri": "https://localhost:8080/"
        },
        "id": "zlWp6CbtLIkE",
        "outputId": "a554c51e-0961-4602-c3e5-10a9f8be92d6"
      },
      "source": [
        "data.isnull().sum()"
      ],
      "execution_count": 167,
      "outputs": [
        {
          "output_type": "execute_result",
          "data": {
            "text/plain": [
              "Loan_ID               0\n",
              "Gender               13\n",
              "Married               3\n",
              "Dependents           15\n",
              "Education             0\n",
              "Self_Employed        32\n",
              "ApplicantIncome       0\n",
              "CoapplicantIncome     0\n",
              "LoanAmount           22\n",
              "Loan_Amount_Term     14\n",
              "Credit_History       50\n",
              "Property_Area         0\n",
              "Loan_Status           0\n",
              "dtype: int64"
            ]
          },
          "metadata": {
            "tags": []
          },
          "execution_count": 167
        }
      ]
    },
    {
      "cell_type": "code",
      "metadata": {
        "colab": {
          "base_uri": "https://localhost:8080/"
        },
        "id": "xjhZkhfaGPv6",
        "outputId": "05eefee5-d193-4fa0-92eb-21572874b1ca"
      },
      "source": [
        "test.isnull().sum()"
      ],
      "execution_count": 168,
      "outputs": [
        {
          "output_type": "execute_result",
          "data": {
            "text/plain": [
              "Loan_ID               0\n",
              "Gender               11\n",
              "Married               0\n",
              "Dependents           10\n",
              "Education             0\n",
              "Self_Employed        23\n",
              "ApplicantIncome       0\n",
              "CoapplicantIncome     0\n",
              "LoanAmount            5\n",
              "Loan_Amount_Term      6\n",
              "Credit_History       29\n",
              "Property_Area         0\n",
              "dtype: int64"
            ]
          },
          "metadata": {
            "tags": []
          },
          "execution_count": 168
        }
      ]
    },
    {
      "cell_type": "code",
      "metadata": {
        "colab": {
          "base_uri": "https://localhost:8080/"
        },
        "id": "wJkC3Z-XKnQU",
        "outputId": "2a2236a0-8ade-4735-d9f8-bc7294a64884"
      },
      "source": [
        "data.dtypes"
      ],
      "execution_count": 169,
      "outputs": [
        {
          "output_type": "execute_result",
          "data": {
            "text/plain": [
              "Loan_ID               object\n",
              "Gender                object\n",
              "Married               object\n",
              "Dependents            object\n",
              "Education             object\n",
              "Self_Employed         object\n",
              "ApplicantIncome        int64\n",
              "CoapplicantIncome    float64\n",
              "LoanAmount           float64\n",
              "Loan_Amount_Term     float64\n",
              "Credit_History       float64\n",
              "Property_Area         object\n",
              "Loan_Status           object\n",
              "dtype: object"
            ]
          },
          "metadata": {
            "tags": []
          },
          "execution_count": 169
        }
      ]
    },
    {
      "cell_type": "markdown",
      "metadata": {
        "id": "Nnt6sH1JIX-r"
      },
      "source": [
        "### Checking for imbalance in dependent variable :"
      ]
    },
    {
      "cell_type": "code",
      "metadata": {
        "colab": {
          "base_uri": "https://localhost:8080/"
        },
        "id": "A0wXAmwmJmtt",
        "outputId": "325813e6-a93f-43b8-dde8-45ab93bceeb0"
      },
      "source": [
        "data['Loan_Status'].value_counts()"
      ],
      "execution_count": 170,
      "outputs": [
        {
          "output_type": "execute_result",
          "data": {
            "text/plain": [
              "Y    422\n",
              "N    192\n",
              "Name: Loan_Status, dtype: int64"
            ]
          },
          "metadata": {
            "tags": []
          },
          "execution_count": 170
        }
      ]
    },
    {
      "cell_type": "code",
      "metadata": {
        "colab": {
          "base_uri": "https://localhost:8080/",
          "height": 454
        },
        "id": "HWU5M4ADIejU",
        "outputId": "593809f9-5cd4-4eb4-e1f2-61616915eb9b"
      },
      "source": [
        "plt.axis('equal')\n",
        "plt.pie(data['Loan_Status'].value_counts(),labels=['Approved','Not Approved'],autopct='%0.2f%%',radius=2,explode=[0,1.0])\n",
        "plt.title('Pie chart of loans approved vs not-approved')\n",
        "plt.show()"
      ],
      "execution_count": 171,
      "outputs": [
        {
          "output_type": "display_data",
          "data": {
            "image/png": "[encoded data removed]",
            "text/plain": [
              "<Figure size 432x288 with 1 Axes>"
            ]
          },
          "metadata": {
            "tags": []
          }
        }
      ]
    },
    {
      "cell_type": "markdown",
      "metadata": {
        "id": "b02LQT0WKjK9"
      },
      "source": [
        "#### Thus clearly, there is an imbalance with the loans approved(Yes) comprising of 68.73% of the overall data, and loans not-approved(No) comprising of 31.27% of the overall data."
      ]
    },
    {
      "cell_type": "markdown",
      "metadata": {
        "id": "8yNDMlbmMdPe"
      },
      "source": [
        "### Filling missing values for the categorical features :"
      ]
    },
    {
      "cell_type": "markdown",
      "metadata": {
        "id": "vxfez3LlMHuh"
      },
      "source": [
        "#### 1) Gender :"
      ]
    },
    {
      "cell_type": "code",
      "metadata": {
        "colab": {
          "base_uri": "https://localhost:8080/"
        },
        "id": "5jBGbbKwMF-u",
        "outputId": "d5a263ef-ec98-4eb1-e08b-e5c137ebefe8"
      },
      "source": [
        "data['Gender'].value_counts(normalize=True)"
      ],
      "execution_count": 172,
      "outputs": [
        {
          "output_type": "execute_result",
          "data": {
            "text/plain": [
              "Male      0.813644\n",
              "Female    0.186356\n",
              "Name: Gender, dtype: float64"
            ]
          },
          "metadata": {
            "tags": []
          },
          "execution_count": 172
        }
      ]
    },
    {
      "cell_type": "code",
      "metadata": {
        "colab": {
          "base_uri": "https://localhost:8080/",
          "height": 414
        },
        "id": "XJUSj2wVdQPt",
        "outputId": "b030a605-70d2-424a-a937-b41d6e937993"
      },
      "source": [
        "plt.axis('equal')\n",
        "plt.pie(data['Gender'].value_counts(),labels=['Male','Female'],autopct='%0.2f%%',radius=2,explode=[0,1.0])\n",
        "plt.title('Pie chart of Gender Distribution')\n",
        "plt.show()"
      ],
      "execution_count": 173,
      "outputs": [
        {
          "output_type": "display_data",
          "data": {
            "image/png": "[encoded data removed]",
            "text/plain": [
              "<Figure size 432x288 with 1 Axes>"
            ]
          },
          "metadata": {
            "tags": []
          }
        }
      ]
    },
    {
      "cell_type": "code",
      "metadata": {
        "colab": {
          "base_uri": "https://localhost:8080/",
          "height": 450
        },
        "id": "pWzDUnSZRa8f",
        "outputId": "1bcb3c69-4b68-443b-bae6-be008db57b8b"
      },
      "source": [
        "print(pd.crosstab(data[\"Gender\"],data[\"Loan_Status\"]))\n",
        "Gender = pd.crosstab(data[\"Gender\"],data[\"Loan_Status\"])\n",
        "print(Gender.div(Gender.sum(1).astype(float),axis=0))\n",
        "Gender.div(Gender.sum(1).astype(float),axis=0).plot(kind=\"bar\",stacked=True,figsize=(4,4))\n",
        "plt.xlabel(\"Gender\")\n",
        "plt.ylabel(\"Approved_Percentage\")\n",
        "plt.show()"
      ],
      "execution_count": 174,
      "outputs": [
        {
          "output_type": "stream",
          "text": [
            "Loan_Status    N    Y\n",
            "Gender               \n",
            "Female        37   75\n",
            "Male         150  339\n",
            "Loan_Status         N         Y\n",
            "Gender                         \n",
            "Female       0.330357  0.669643\n",
            "Male         0.306748  0.693252\n"
          ],
          "name": "stdout"
        },
        {
          "output_type": "display_data",
          "data": {
            "image/png": "[encoded data removed]",
            "text/plain": [
              "<Figure size 288x288 with 1 Axes>"
            ]
          },
          "metadata": {
            "tags": []
          }
        }
      ]
    },
    {
      "cell_type": "markdown",
      "metadata": {
        "id": "YU1n7axco7pn"
      },
      "source": [
        "#### So the percentages of defaults for both male and female are almost the same. "
      ]
    },
    {
      "cell_type": "code",
      "metadata": {
        "colab": {
          "base_uri": "https://localhost:8080/"
        },
        "id": "QfLaERXbRJKT",
        "outputId": "7e798fbd-4b1a-43bc-b549-bb3eeaa60a07"
      },
      "source": [
        "# Checking the percentage of defaults for the ones with missing values in 'Gender' column :\n",
        "data_gender_missing = data[data['Gender'].isnull()]\n",
        "data_gender_missing['Loan_Status'].value_counts(normalize=True)"
      ],
      "execution_count": 175,
      "outputs": [
        {
          "output_type": "execute_result",
          "data": {
            "text/plain": [
              "Y    0.615385\n",
              "N    0.384615\n",
              "Name: Loan_Status, dtype: float64"
            ]
          },
          "metadata": {
            "tags": []
          },
          "execution_count": 175
        }
      ]
    },
    {
      "cell_type": "code",
      "metadata": {
        "id": "oeljRgn1Lyao"
      },
      "source": [
        "# Since default percentage of missing valujes is closer to default percentage of Gender 'Female',and also since females are much lesser in numbers, so the missing values are imputed with 'Female'.\n",
        "data['Gender'] = data['Gender'].fillna('Female')\n",
        "test['Gender'] = test['Gender'].fillna('Female')"
      ],
      "execution_count": 176,
      "outputs": []
    },
    {
      "cell_type": "code",
      "metadata": {
        "colab": {
          "base_uri": "https://localhost:8080/"
        },
        "id": "Mu4KNChkSwhR",
        "outputId": "524f39bd-290a-4df9-c416-9fbadfc9f264"
      },
      "source": [
        "data['Gender'].value_counts(normalize=True)"
      ],
      "execution_count": 177,
      "outputs": [
        {
          "output_type": "execute_result",
          "data": {
            "text/plain": [
              "Male      0.796417\n",
              "Female    0.203583\n",
              "Name: Gender, dtype: float64"
            ]
          },
          "metadata": {
            "tags": []
          },
          "execution_count": 177
        }
      ]
    },
    {
      "cell_type": "markdown",
      "metadata": {
        "id": "V_uiRqrbOdYx"
      },
      "source": [
        "#### 2) Dependents :"
      ]
    },
    {
      "cell_type": "code",
      "metadata": {
        "colab": {
          "base_uri": "https://localhost:8080/"
        },
        "id": "FzmuRZq4TKiP",
        "outputId": "130322d5-4a65-4728-fb5d-10d8645e87fc"
      },
      "source": [
        "data['Dependents'].value_counts(normalize=True)"
      ],
      "execution_count": 178,
      "outputs": [
        {
          "output_type": "execute_result",
          "data": {
            "text/plain": [
              "0     0.575960\n",
              "1     0.170284\n",
              "2     0.168614\n",
              "3+    0.085142\n",
              "Name: Dependents, dtype: float64"
            ]
          },
          "metadata": {
            "tags": []
          },
          "execution_count": 178
        }
      ]
    },
    {
      "cell_type": "code",
      "metadata": {
        "colab": {
          "base_uri": "https://localhost:8080/",
          "height": 413
        },
        "id": "C70xGqBp4kjb",
        "outputId": "3410d8b5-c289-47d9-c98e-5cca32e78bb0"
      },
      "source": [
        "# Checking the distribution of the various values in 'Dependents' feature, in terms of percentage :\n",
        "plt.axis('equal')\n",
        "plt.pie(data['Dependents'].value_counts(),labels=['0','1','2','3+'],autopct='%0.2f%%',radius=2,explode=[0,0.2,0.2,0.2],shadow=True)\n",
        "plt.title('Pie Chart of Number of Dependents')\n",
        "plt.show()"
      ],
      "execution_count": 179,
      "outputs": [
        {
          "output_type": "display_data",
          "data": {
            "image/png": "[encoded data removed]",
            "text/plain": [
              "<Figure size 432x288 with 1 Axes>"
            ]
          },
          "metadata": {
            "tags": []
          }
        }
      ]
    },
    {
      "cell_type": "code",
      "metadata": {
        "colab": {
          "base_uri": "https://localhost:8080/"
        },
        "id": "gqfKS8YOTF4N",
        "outputId": "df9d71ff-e9eb-4f56-b707-dd7740f710fa"
      },
      "source": [
        "# Checking the percentage of defaults for each of the classes of 'Dependents' variable :\n",
        "print(data[data['Dependents']=='0']['Loan_Status'].value_counts(normalize=True))\n",
        "print(data[data['Dependents']=='1']['Loan_Status'].value_counts(normalize=True))\n",
        "print(data[data['Dependents']=='2']['Loan_Status'].value_counts(normalize=True))\n",
        "print(data[data['Dependents']=='3+']['Loan_Status'].value_counts(normalize=True))"
      ],
      "execution_count": 180,
      "outputs": [
        {
          "output_type": "stream",
          "text": [
            "Y    0.689855\n",
            "N    0.310145\n",
            "Name: Loan_Status, dtype: float64\n",
            "Y    0.647059\n",
            "N    0.352941\n",
            "Name: Loan_Status, dtype: float64\n",
            "Y    0.752475\n",
            "N    0.247525\n",
            "Name: Loan_Status, dtype: float64\n",
            "Y    0.647059\n",
            "N    0.352941\n",
            "Name: Loan_Status, dtype: float64\n"
          ],
          "name": "stdout"
        }
      ]
    },
    {
      "cell_type": "code",
      "metadata": {
        "colab": {
          "base_uri": "https://localhost:8080/",
          "height": 493
        },
        "id": "6vc99raT7EYA",
        "outputId": "e0b1fa9c-49a5-47a1-fd89-fd2945498273"
      },
      "source": [
        "# Plotting the percentage of defaults for each of the classes of 'Dependents' variable :\n",
        "print(pd.crosstab(data[\"Dependents\"],data[\"Loan_Status\"]))\n",
        "Dependents = pd.crosstab(data[\"Dependents\"],data[\"Loan_Status\"])\n",
        "print(Dependents.div(Dependents.sum(1).astype(float),axis=0))\n",
        "Dependents.div(Dependents.sum(1).astype(float),axis=0).plot(kind=\"bar\",stacked=True,figsize=(4,4))\n",
        "plt.xlabel(\"Dependents\")\n",
        "plt.ylabel(\"Approved_Percentage\")\n",
        "plt.show()"
      ],
      "execution_count": 181,
      "outputs": [
        {
          "output_type": "stream",
          "text": [
            "Loan_Status    N    Y\n",
            "Dependents           \n",
            "0            107  238\n",
            "1             36   66\n",
            "2             25   76\n",
            "3+            18   33\n",
            "Loan_Status         N         Y\n",
            "Dependents                     \n",
            "0            0.310145  0.689855\n",
            "1            0.352941  0.647059\n",
            "2            0.247525  0.752475\n",
            "3+           0.352941  0.647059\n"
          ],
          "name": "stdout"
        },
        {
          "output_type": "display_data",
          "data": {
            "image/png": "[encoded data removed]",
            "text/plain": [
              "<Figure size 288x288 with 1 Axes>"
            ]
          },
          "metadata": {
            "tags": []
          }
        }
      ]
    },
    {
      "cell_type": "code",
      "metadata": {
        "colab": {
          "base_uri": "https://localhost:8080/"
        },
        "id": "cGB80-MQTFpJ",
        "outputId": "21506b3d-7a1f-4482-feaa-b30240706670"
      },
      "source": [
        "data_Dependents_missing  = data[data['Dependents'].isnull()] \n",
        "data_Dependents_missing['Loan_Status'].value_counts(normalize=True)"
      ],
      "execution_count": 182,
      "outputs": [
        {
          "output_type": "execute_result",
          "data": {
            "text/plain": [
              "Y    0.6\n",
              "N    0.4\n",
              "Name: Loan_Status, dtype: float64"
            ]
          },
          "metadata": {
            "tags": []
          },
          "execution_count": 182
        }
      ]
    },
    {
      "cell_type": "code",
      "metadata": {
        "id": "e0AI-JUSTFaW"
      },
      "source": [
        "# Since the missing Dependent values have highest non-approved loans, so they are imputed with '3+'.\n",
        "data['Dependents'] = data['Dependents'].fillna('3+')"
      ],
      "execution_count": 183,
      "outputs": []
    },
    {
      "cell_type": "code",
      "metadata": {
        "id": "qxDIG0-YYW6O"
      },
      "source": [
        "test['Dependents'] = test['Dependents'].fillna('3+')"
      ],
      "execution_count": 184,
      "outputs": []
    },
    {
      "cell_type": "markdown",
      "metadata": {
        "id": "0LnL0F2dPDxs"
      },
      "source": [
        "#### 3) Married :"
      ]
    },
    {
      "cell_type": "code",
      "metadata": {
        "id": "eOlHuE2TOlfI"
      },
      "source": [
        "# Since only a very few missing values are present only in the train data for feature 'Married', these values are dropped.\n",
        "data = data.dropna(subset=['Married'])"
      ],
      "execution_count": 185,
      "outputs": []
    },
    {
      "cell_type": "code",
      "metadata": {
        "colab": {
          "base_uri": "https://localhost:8080/"
        },
        "id": "2-05kUqkNRkb",
        "outputId": "9c8a3914-bcc2-4800-bba5-900ec245b10b"
      },
      "source": [
        "data['Married'].isnull().mean()"
      ],
      "execution_count": 186,
      "outputs": [
        {
          "output_type": "execute_result",
          "data": {
            "text/plain": [
              "0.0"
            ]
          },
          "metadata": {
            "tags": []
          },
          "execution_count": 186
        }
      ]
    },
    {
      "cell_type": "markdown",
      "metadata": {
        "id": "uo-HQytqOnf3"
      },
      "source": [
        "#### 4) Self_Employed :"
      ]
    },
    {
      "cell_type": "code",
      "metadata": {
        "colab": {
          "base_uri": "https://localhost:8080/"
        },
        "id": "YhHsNZq7PbT1",
        "outputId": "fb372882-8f4a-4109-9797-bd91fcd7028b"
      },
      "source": [
        "data['Self_Employed'].value_counts(normalize=True)"
      ],
      "execution_count": 187,
      "outputs": [
        {
          "output_type": "execute_result",
          "data": {
            "text/plain": [
              "No     0.858377\n",
              "Yes    0.141623\n",
              "Name: Self_Employed, dtype: float64"
            ]
          },
          "metadata": {
            "tags": []
          },
          "execution_count": 187
        }
      ]
    },
    {
      "cell_type": "code",
      "metadata": {
        "colab": {
          "base_uri": "https://localhost:8080/"
        },
        "id": "ca-LdmvbVx_K",
        "outputId": "c5eb6242-6643-434b-e541-42f2ea8d15a5"
      },
      "source": [
        "print(data[data['Self_Employed']=='No']['Loan_Status'].value_counts(normalize=True))\n",
        "print(data[data['Self_Employed']=='Yes']['Loan_Status'].value_counts(normalize=True))"
      ],
      "execution_count": 188,
      "outputs": [
        {
          "output_type": "stream",
          "text": [
            "Y    0.684105\n",
            "N    0.315895\n",
            "Name: Loan_Status, dtype: float64\n",
            "Y    0.682927\n",
            "N    0.317073\n",
            "Name: Loan_Status, dtype: float64\n"
          ],
          "name": "stdout"
        }
      ]
    },
    {
      "cell_type": "code",
      "metadata": {
        "colab": {
          "base_uri": "https://localhost:8080/",
          "height": 427
        },
        "id": "FlybXDFL-BTw",
        "outputId": "9dbdd60f-1b27-42ad-b756-90735de3a948"
      },
      "source": [
        "# Plotting the percentage of defaults for each of the classes of 'Dependents' variable :\n",
        "print(pd.crosstab(data[\"Self_Employed\"],data[\"Loan_Status\"]))\n",
        "Dependents = pd.crosstab(data[\"Self_Employed\"],data[\"Loan_Status\"])\n",
        "print(Dependents.div(Dependents.sum(1).astype(float),axis=0))\n",
        "Dependents.div(Dependents.sum(1).astype(float),axis=0).plot(kind=\"bar\",stacked=True,figsize=(4,4))\n",
        "plt.xlabel(\"Self_Employed\")\n",
        "plt.ylabel(\"Approved_Percentage\")\n",
        "plt.show()"
      ],
      "execution_count": 189,
      "outputs": [
        {
          "output_type": "stream",
          "text": [
            "Loan_Status      N    Y\n",
            "Self_Employed          \n",
            "No             157  340\n",
            "Yes             26   56\n",
            "Loan_Status           N         Y\n",
            "Self_Employed                    \n",
            "No             0.315895  0.684105\n",
            "Yes            0.317073  0.682927\n"
          ],
          "name": "stdout"
        },
        {
          "output_type": "display_data",
          "data": {
            "image/png": "[encoded data removed]",
            "text/plain": [
              "<Figure size 288x288 with 1 Axes>"
            ]
          },
          "metadata": {
            "tags": []
          }
        }
      ]
    },
    {
      "cell_type": "markdown",
      "metadata": {
        "id": "3WE1mFMZ-SAf"
      },
      "source": [
        "#### The approved and non-approved percentages are almost the same for both the values of 'Self-Employed'."
      ]
    },
    {
      "cell_type": "code",
      "metadata": {
        "colab": {
          "base_uri": "https://localhost:8080/"
        },
        "id": "kvv-YhQHWYzc",
        "outputId": "ff1cb3a9-9995-4f9e-f9f0-4dd0dc092069"
      },
      "source": [
        "# Percentage of approvals for missing values in feature 'Self_Employed' :\n",
        "data_employed_missing = data[data['Self_Employed'].isnull()] \n",
        "data_employed_missing['Loan_Status'].value_counts(normalize=True) "
      ],
      "execution_count": 190,
      "outputs": [
        {
          "output_type": "execute_result",
          "data": {
            "text/plain": [
              "Y    0.71875\n",
              "N    0.28125\n",
              "Name: Loan_Status, dtype: float64"
            ]
          },
          "metadata": {
            "tags": []
          },
          "execution_count": 190
        }
      ]
    },
    {
      "cell_type": "code",
      "metadata": {
        "id": "KHsSB84xXooi"
      },
      "source": [
        "# After trying to impute the missing values with both 'Yes' and 'No', better results are obtained with 'No'.\n",
        "data['Self_Employed'] = data['Self_Employed'].fillna('No')\n",
        "#data['Self_Employed'] = data['Self_Employed'].fillna('Yes')"
      ],
      "execution_count": 191,
      "outputs": []
    },
    {
      "cell_type": "code",
      "metadata": {
        "id": "906lrKdzY2J8"
      },
      "source": [
        "test['Self_Employed'] = test['Self_Employed'].fillna('No')\n",
        "#test['Self_Employed'] = test['Self_Employed'].fillna('Yes')"
      ],
      "execution_count": 192,
      "outputs": []
    },
    {
      "cell_type": "markdown",
      "metadata": {
        "id": "RkeXEG7WQQWB"
      },
      "source": [
        "#### 5) Credit_History :"
      ]
    },
    {
      "cell_type": "code",
      "metadata": {
        "colab": {
          "base_uri": "https://localhost:8080/"
        },
        "id": "4lkFWqdqQVHu",
        "outputId": "76748439-4956-4bec-ddca-4a8d2371f4e7"
      },
      "source": [
        "data['Credit_History'].value_counts(normalize=True) "
      ],
      "execution_count": 193,
      "outputs": [
        {
          "output_type": "execute_result",
          "data": {
            "text/plain": [
              "1.0    0.841355\n",
              "0.0    0.158645\n",
              "Name: Credit_History, dtype: float64"
            ]
          },
          "metadata": {
            "tags": []
          },
          "execution_count": 193
        }
      ]
    },
    {
      "cell_type": "code",
      "metadata": {
        "id": "rh3IDKEKZoQn"
      },
      "source": [
        "data['Credit_History'] = data['Credit_History'].astype(object)"
      ],
      "execution_count": 194,
      "outputs": []
    },
    {
      "cell_type": "code",
      "metadata": {
        "colab": {
          "base_uri": "https://localhost:8080/"
        },
        "id": "urIFQmL0ZEVw",
        "outputId": "d2e60b15-beb3-48f1-8ef3-d7ae4eeeab3c"
      },
      "source": [
        "print(data[data['Credit_History']==1]['Loan_Status'].value_counts(normalize=True))\n",
        "print(data[data['Credit_History']==0]['Loan_Status'].value_counts(normalize=True))"
      ],
      "execution_count": 195,
      "outputs": [
        {
          "output_type": "stream",
          "text": [
            "Y    0.794492\n",
            "N    0.205508\n",
            "Name: Loan_Status, dtype: float64\n",
            "N    0.921348\n",
            "Y    0.078652\n",
            "Name: Loan_Status, dtype: float64\n"
          ],
          "name": "stdout"
        }
      ]
    },
    {
      "cell_type": "code",
      "metadata": {
        "colab": {
          "base_uri": "https://localhost:8080/"
        },
        "id": "FINzTx1BQkFl",
        "outputId": "26756c6e-c704-4c43-e26f-11c54ac1b759"
      },
      "source": [
        "data_credit_missing  = data[data['Credit_History'].isnull()]\n",
        "data_credit_missing['Loan_Status'].value_counts(normalize=True)"
      ],
      "execution_count": 196,
      "outputs": [
        {
          "output_type": "execute_result",
          "data": {
            "text/plain": [
              "Y    0.74\n",
              "N    0.26\n",
              "Name: Loan_Status, dtype: float64"
            ]
          },
          "metadata": {
            "tags": []
          },
          "execution_count": 196
        }
      ]
    },
    {
      "cell_type": "code",
      "metadata": {
        "id": "MYFhoDhGQspJ"
      },
      "source": [
        "# Since percentages of approvals for missing values in feature 'Credit_History' are closer to value 1, so all missing values are imputed with '1'.\n",
        "data['Credit_History'] = data['Credit_History'].fillna(1)"
      ],
      "execution_count": 197,
      "outputs": []
    },
    {
      "cell_type": "code",
      "metadata": {
        "id": "OYpA1D9bbQDo"
      },
      "source": [
        "test['Credit_History'] = test['Credit_History'].fillna(1)"
      ],
      "execution_count": 198,
      "outputs": []
    },
    {
      "cell_type": "markdown",
      "metadata": {
        "id": "Pdmj9qP6PpsJ"
      },
      "source": [
        "### Coming to the numerical variables, we'll use IterativeImputer in this case :"
      ]
    },
    {
      "cell_type": "code",
      "metadata": {
        "colab": {
          "base_uri": "https://localhost:8080/"
        },
        "id": "8OYE8FZHl5pk",
        "outputId": "2225fb92-f905-4bff-bf5d-42107b062619"
      },
      "source": [
        "data.dtypes"
      ],
      "execution_count": 199,
      "outputs": [
        {
          "output_type": "execute_result",
          "data": {
            "text/plain": [
              "Loan_ID               object\n",
              "Gender                object\n",
              "Married               object\n",
              "Dependents            object\n",
              "Education             object\n",
              "Self_Employed         object\n",
              "ApplicantIncome        int64\n",
              "CoapplicantIncome    float64\n",
              "LoanAmount           float64\n",
              "Loan_Amount_Term     float64\n",
              "Credit_History       float64\n",
              "Property_Area         object\n",
              "Loan_Status           object\n",
              "dtype: object"
            ]
          },
          "metadata": {
            "tags": []
          },
          "execution_count": 199
        }
      ]
    },
    {
      "cell_type": "code",
      "metadata": {
        "colab": {
          "base_uri": "https://localhost:8080/"
        },
        "id": "WFtN8ZzS_i-Y",
        "outputId": "7454f715-9139-4e7a-ec40-3738e161d23b"
      },
      "source": [
        "data.isnull().mean()"
      ],
      "execution_count": 200,
      "outputs": [
        {
          "output_type": "execute_result",
          "data": {
            "text/plain": [
              "Loan_ID              0.000000\n",
              "Gender               0.000000\n",
              "Married              0.000000\n",
              "Dependents           0.000000\n",
              "Education            0.000000\n",
              "Self_Employed        0.000000\n",
              "ApplicantIncome      0.000000\n",
              "CoapplicantIncome    0.000000\n",
              "LoanAmount           0.034370\n",
              "Loan_Amount_Term     0.022913\n",
              "Credit_History       0.000000\n",
              "Property_Area        0.000000\n",
              "Loan_Status          0.000000\n",
              "dtype: float64"
            ]
          },
          "metadata": {
            "tags": []
          },
          "execution_count": 200
        }
      ]
    },
    {
      "cell_type": "code",
      "metadata": {
        "id": "zt4wglKL1L--"
      },
      "source": [
        "#data = data.dropna(subset=['LoanAmount','Loan_Amount_Term'])"
      ],
      "execution_count": 201,
      "outputs": []
    },
    {
      "cell_type": "markdown",
      "metadata": {
        "id": "jhBEmdWcoRO1"
      },
      "source": [
        "### 6) Loan_Amount_Term :"
      ]
    },
    {
      "cell_type": "code",
      "metadata": {
        "id": "upDvU5JlfbaH",
        "colab": {
          "base_uri": "https://localhost:8080/"
        },
        "outputId": "1b58b685-0ccb-4c03-b250-4ac4b788a1d4"
      },
      "source": [
        "data['Loan_Amount_Term'].value_counts()"
      ],
      "execution_count": 202,
      "outputs": [
        {
          "output_type": "execute_result",
          "data": {
            "text/plain": [
              "360.0    511\n",
              "180.0     44\n",
              "480.0     14\n",
              "300.0     13\n",
              "84.0       4\n",
              "240.0      3\n",
              "120.0      3\n",
              "36.0       2\n",
              "60.0       2\n",
              "12.0       1\n",
              "Name: Loan_Amount_Term, dtype: int64"
            ]
          },
          "metadata": {
            "tags": []
          },
          "execution_count": 202
        }
      ]
    },
    {
      "cell_type": "code",
      "metadata": {
        "colab": {
          "base_uri": "https://localhost:8080/"
        },
        "id": "uHzKH57Xh5O7",
        "outputId": "83930d7d-62da-4aee-cb93-fbed6caa1558"
      },
      "source": [
        "# Converting 'Loan_Amount_Term' in months to years :\n",
        "data['Loan_Amount_Term'] = data['Loan_Amount_Term']/12\n",
        "data['Loan_Amount_Term'].value_counts() "
      ],
      "execution_count": 203,
      "outputs": [
        {
          "output_type": "execute_result",
          "data": {
            "text/plain": [
              "30.0    511\n",
              "15.0     44\n",
              "40.0     14\n",
              "25.0     13\n",
              "7.0       4\n",
              "20.0      3\n",
              "10.0      3\n",
              "3.0       2\n",
              "5.0       2\n",
              "1.0       1\n",
              "Name: Loan_Amount_Term, dtype: int64"
            ]
          },
          "metadata": {
            "tags": []
          },
          "execution_count": 203
        }
      ]
    },
    {
      "cell_type": "code",
      "metadata": {
        "colab": {
          "base_uri": "https://localhost:8080/"
        },
        "id": "44M0Y-0rvo3u",
        "outputId": "821e7387-991b-4819-9e7b-55b32db32357"
      },
      "source": [
        "test['Loan_Amount_Term'] = test['Loan_Amount_Term']/12\n",
        "test['Loan_Amount_Term'].value_counts() "
      ],
      "execution_count": 204,
      "outputs": [
        {
          "output_type": "execute_result",
          "data": {
            "text/plain": [
              "30.000000    311\n",
              "15.000000     22\n",
              "40.000000      8\n",
              "25.000000      7\n",
              "20.000000      4\n",
              "7.000000       3\n",
              "29.166667      1\n",
              "0.500000       1\n",
              "10.000000      1\n",
              "3.000000       1\n",
              "1.000000       1\n",
              "5.000000       1\n",
              "Name: Loan_Amount_Term, dtype: int64"
            ]
          },
          "metadata": {
            "tags": []
          },
          "execution_count": 204
        }
      ]
    },
    {
      "cell_type": "code",
      "metadata": {
        "id": "V8EepsWioTf4",
        "colab": {
          "base_uri": "https://localhost:8080/"
        },
        "outputId": "4bc696c0-21db-483d-bd1f-f26278769f20"
      },
      "source": [
        "data[data['Loan_Amount_Term'].isnull()]['Loan_Status'].value_counts(normalize=True)"
      ],
      "execution_count": 205,
      "outputs": [
        {
          "output_type": "execute_result",
          "data": {
            "text/plain": [
              "Y    0.571429\n",
              "N    0.428571\n",
              "Name: Loan_Status, dtype: float64"
            ]
          },
          "metadata": {
            "tags": []
          },
          "execution_count": 205
        }
      ]
    },
    {
      "cell_type": "code",
      "metadata": {
        "colab": {
          "base_uri": "https://localhost:8080/"
        },
        "id": "5TzljKcznyqe",
        "outputId": "b0b5ff90-8d05-40c2-d46d-fff77bb236cb"
      },
      "source": [
        "Loan_Amount_Term = pd.crosstab(data[\"Loan_Amount_Term\"],data[\"Loan_Status\"])\n",
        "print(Loan_Amount_Term.div(Loan_Amount_Term.sum(1).astype(float),axis=0))"
      ],
      "execution_count": 206,
      "outputs": [
        {
          "output_type": "stream",
          "text": [
            "Loan_Status              N         Y\n",
            "Loan_Amount_Term                    \n",
            "1.0               0.000000  1.000000\n",
            "3.0               1.000000  0.000000\n",
            "5.0               0.000000  1.000000\n",
            "7.0               0.250000  0.750000\n",
            "10.0              0.000000  1.000000\n",
            "15.0              0.340909  0.659091\n",
            "20.0              0.333333  0.666667\n",
            "25.0              0.384615  0.615385\n",
            "30.0              0.299413  0.700587\n",
            "40.0              0.642857  0.357143\n"
          ],
          "name": "stdout"
        }
      ]
    },
    {
      "cell_type": "code",
      "metadata": {
        "id": "2Q038vTSZy8g"
      },
      "source": [
        "# Since values less than 10 were very less, these values are converted to 10 :\n",
        "data.loc[data['Loan_Amount_Term']<=10,'Loan_Amount_Term'] = 10\n",
        "test.loc[test['Loan_Amount_Term']<=10,'Loan_Amount_Term'] = 10 "
      ],
      "execution_count": 207,
      "outputs": []
    },
    {
      "cell_type": "code",
      "metadata": {
        "id": "Y_OuivHmVvr4",
        "colab": {
          "base_uri": "https://localhost:8080/",
          "height": 195
        },
        "outputId": "9d1dcc35-e4a0-486c-ecac-c3be69cd1377"
      },
      "source": [
        "data[data['Loan_Amount_Term']<=10].head()"
      ],
      "execution_count": 208,
      "outputs": [
        {
          "output_type": "execute_result",
          "data": {
            "text/html": [
              "<div>\n",
              "<style scoped>\n",
              "    .dataframe tbody tr th:only-of-type {\n",
              "        vertical-align: middle;\n",
              "    }\n",
              "\n",
              "    .dataframe tbody tr th {\n",
              "        vertical-align: top;\n",
              "    }\n",
              "\n",
              "    .dataframe thead th {\n",
              "        text-align: right;\n",
              "    }\n",
              "</style>\n",
              "<table border=\"1\" class=\"dataframe\">\n",
              "  <thead>\n",
              "    <tr style=\"text-align: right;\">\n",
              "      <th></th>\n",
              "      <th>Loan_ID</th>\n",
              "      <th>Gender</th>\n",
              "      <th>Married</th>\n",
              "      <th>Dependents</th>\n",
              "      <th>Education</th>\n",
              "      <th>Self_Employed</th>\n",
              "      <th>ApplicantIncome</th>\n",
              "      <th>CoapplicantIncome</th>\n",
              "      <th>LoanAmount</th>\n",
              "      <th>Loan_Amount_Term</th>\n",
              "      <th>Credit_History</th>\n",
              "      <th>Property_Area</th>\n",
              "      <th>Loan_Status</th>\n",
              "    </tr>\n",
              "  </thead>\n",
              "  <tbody>\n",
              "    <tr>\n",
              "      <th>14</th>\n",
              "      <td>LP001030</td>\n",
              "      <td>Male</td>\n",
              "      <td>Yes</td>\n",
              "      <td>2</td>\n",
              "      <td>Graduate</td>\n",
              "      <td>No</td>\n",
              "      <td>1299</td>\n",
              "      <td>1086.0</td>\n",
              "      <td>17.0</td>\n",
              "      <td>10.0</td>\n",
              "      <td>1.0</td>\n",
              "      <td>Urban</td>\n",
              "      <td>Y</td>\n",
              "    </tr>\n",
              "    <tr>\n",
              "      <th>68</th>\n",
              "      <td>LP001238</td>\n",
              "      <td>Male</td>\n",
              "      <td>Yes</td>\n",
              "      <td>3+</td>\n",
              "      <td>Not Graduate</td>\n",
              "      <td>Yes</td>\n",
              "      <td>7100</td>\n",
              "      <td>0.0</td>\n",
              "      <td>125.0</td>\n",
              "      <td>10.0</td>\n",
              "      <td>1.0</td>\n",
              "      <td>Urban</td>\n",
              "      <td>Y</td>\n",
              "    </tr>\n",
              "    <tr>\n",
              "      <th>94</th>\n",
              "      <td>LP001325</td>\n",
              "      <td>Male</td>\n",
              "      <td>No</td>\n",
              "      <td>0</td>\n",
              "      <td>Not Graduate</td>\n",
              "      <td>No</td>\n",
              "      <td>3620</td>\n",
              "      <td>0.0</td>\n",
              "      <td>25.0</td>\n",
              "      <td>10.0</td>\n",
              "      <td>1.0</td>\n",
              "      <td>Semiurban</td>\n",
              "      <td>Y</td>\n",
              "    </tr>\n",
              "    <tr>\n",
              "      <th>133</th>\n",
              "      <td>LP001482</td>\n",
              "      <td>Male</td>\n",
              "      <td>Yes</td>\n",
              "      <td>0</td>\n",
              "      <td>Graduate</td>\n",
              "      <td>Yes</td>\n",
              "      <td>3459</td>\n",
              "      <td>0.0</td>\n",
              "      <td>25.0</td>\n",
              "      <td>10.0</td>\n",
              "      <td>1.0</td>\n",
              "      <td>Semiurban</td>\n",
              "      <td>Y</td>\n",
              "    </tr>\n",
              "    <tr>\n",
              "      <th>242</th>\n",
              "      <td>LP001806</td>\n",
              "      <td>Male</td>\n",
              "      <td>No</td>\n",
              "      <td>0</td>\n",
              "      <td>Graduate</td>\n",
              "      <td>No</td>\n",
              "      <td>2965</td>\n",
              "      <td>5701.0</td>\n",
              "      <td>155.0</td>\n",
              "      <td>10.0</td>\n",
              "      <td>1.0</td>\n",
              "      <td>Urban</td>\n",
              "      <td>Y</td>\n",
              "    </tr>\n",
              "  </tbody>\n",
              "</table>\n",
              "</div>"
            ],
            "text/plain": [
              "      Loan_ID Gender Married Dependents     Education Self_Employed  \\\n",
              "14   LP001030   Male     Yes          2      Graduate            No   \n",
              "68   LP001238   Male     Yes         3+  Not Graduate           Yes   \n",
              "94   LP001325   Male      No          0  Not Graduate            No   \n",
              "133  LP001482   Male     Yes          0      Graduate           Yes   \n",
              "242  LP001806   Male      No          0      Graduate            No   \n",
              "\n",
              "     ApplicantIncome  CoapplicantIncome  LoanAmount  Loan_Amount_Term  \\\n",
              "14              1299             1086.0        17.0              10.0   \n",
              "68              7100                0.0       125.0              10.0   \n",
              "94              3620                0.0        25.0              10.0   \n",
              "133             3459                0.0        25.0              10.0   \n",
              "242             2965             5701.0       155.0              10.0   \n",
              "\n",
              "     Credit_History Property_Area Loan_Status  \n",
              "14              1.0         Urban           Y  \n",
              "68              1.0         Urban           Y  \n",
              "94              1.0     Semiurban           Y  \n",
              "133             1.0     Semiurban           Y  \n",
              "242             1.0         Urban           Y  "
            ]
          },
          "metadata": {
            "tags": []
          },
          "execution_count": 208
        }
      ]
    },
    {
      "cell_type": "code",
      "metadata": {
        "id": "CoitTnvfMvY7",
        "colab": {
          "base_uri": "https://localhost:8080/"
        },
        "outputId": "bac2fdd2-67d8-4f96-d124-07491d1eebba"
      },
      "source": [
        "test['Loan_Amount_Term'].value_counts() "
      ],
      "execution_count": 209,
      "outputs": [
        {
          "output_type": "execute_result",
          "data": {
            "text/plain": [
              "30.000000    311\n",
              "15.000000     22\n",
              "40.000000      8\n",
              "10.000000      8\n",
              "25.000000      7\n",
              "20.000000      4\n",
              "29.166667      1\n",
              "Name: Loan_Amount_Term, dtype: int64"
            ]
          },
          "metadata": {
            "tags": []
          },
          "execution_count": 209
        }
      ]
    },
    {
      "cell_type": "code",
      "metadata": {
        "id": "DUrBqrFAM9w6",
        "colab": {
          "base_uri": "https://localhost:8080/",
          "height": 77
        },
        "outputId": "22554e4f-4599-4b06-9ee2-86a08e075f81"
      },
      "source": [
        "test[test['Loan_Amount_Term']>29][test['Loan_Amount_Term']<30]"
      ],
      "execution_count": 210,
      "outputs": [
        {
          "output_type": "execute_result",
          "data": {
            "text/html": [
              "<div>\n",
              "<style scoped>\n",
              "    .dataframe tbody tr th:only-of-type {\n",
              "        vertical-align: middle;\n",
              "    }\n",
              "\n",
              "    .dataframe tbody tr th {\n",
              "        vertical-align: top;\n",
              "    }\n",
              "\n",
              "    .dataframe thead th {\n",
              "        text-align: right;\n",
              "    }\n",
              "</style>\n",
              "<table border=\"1\" class=\"dataframe\">\n",
              "  <thead>\n",
              "    <tr style=\"text-align: right;\">\n",
              "      <th></th>\n",
              "      <th>Loan_ID</th>\n",
              "      <th>Gender</th>\n",
              "      <th>Married</th>\n",
              "      <th>Dependents</th>\n",
              "      <th>Education</th>\n",
              "      <th>Self_Employed</th>\n",
              "      <th>ApplicantIncome</th>\n",
              "      <th>CoapplicantIncome</th>\n",
              "      <th>LoanAmount</th>\n",
              "      <th>Loan_Amount_Term</th>\n",
              "      <th>Credit_History</th>\n",
              "      <th>Property_Area</th>\n",
              "    </tr>\n",
              "  </thead>\n",
              "  <tbody>\n",
              "    <tr>\n",
              "      <th>157</th>\n",
              "      <td>LP001867</td>\n",
              "      <td>Male</td>\n",
              "      <td>Yes</td>\n",
              "      <td>0</td>\n",
              "      <td>Graduate</td>\n",
              "      <td>No</td>\n",
              "      <td>4333</td>\n",
              "      <td>2291</td>\n",
              "      <td>133.0</td>\n",
              "      <td>29.166667</td>\n",
              "      <td>1.0</td>\n",
              "      <td>Rural</td>\n",
              "    </tr>\n",
              "  </tbody>\n",
              "</table>\n",
              "</div>"
            ],
            "text/plain": [
              "      Loan_ID Gender Married Dependents Education Self_Employed  \\\n",
              "157  LP001867   Male     Yes          0  Graduate            No   \n",
              "\n",
              "     ApplicantIncome  CoapplicantIncome  LoanAmount  Loan_Amount_Term  \\\n",
              "157             4333               2291       133.0         29.166667   \n",
              "\n",
              "     Credit_History Property_Area  \n",
              "157             1.0         Rural  "
            ]
          },
          "metadata": {
            "tags": []
          },
          "execution_count": 210
        }
      ]
    },
    {
      "cell_type": "code",
      "metadata": {
        "colab": {
          "base_uri": "https://localhost:8080/"
        },
        "id": "FVyoXLot2UT6",
        "outputId": "8d56a59a-fd53-498f-89d1-9f85e4337967"
      },
      "source": [
        "test.loc[157,'Loan_Amount_Term'] = 30\n",
        "test.loc[157,'Loan_Amount_Term']"
      ],
      "execution_count": 211,
      "outputs": [
        {
          "output_type": "execute_result",
          "data": {
            "text/plain": [
              "30.0"
            ]
          },
          "metadata": {
            "tags": []
          },
          "execution_count": 211
        }
      ]
    },
    {
      "cell_type": "code",
      "metadata": {
        "colab": {
          "base_uri": "https://localhost:8080/"
        },
        "id": "jFSlt8XO2o_8",
        "outputId": "3b5b2430-7784-4f1c-9e93-4500e85ad3c8"
      },
      "source": [
        "data['Loan_Amount_Term'].value_counts() "
      ],
      "execution_count": 212,
      "outputs": [
        {
          "output_type": "execute_result",
          "data": {
            "text/plain": [
              "30.0    511\n",
              "15.0     44\n",
              "40.0     14\n",
              "25.0     13\n",
              "10.0     12\n",
              "20.0      3\n",
              "Name: Loan_Amount_Term, dtype: int64"
            ]
          },
          "metadata": {
            "tags": []
          },
          "execution_count": 212
        }
      ]
    },
    {
      "cell_type": "code",
      "metadata": {
        "colab": {
          "base_uri": "https://localhost:8080/"
        },
        "id": "cHQtAisq0-AE",
        "outputId": "2148f654-ea47-4549-f6fb-2a40e1f41453"
      },
      "source": [
        "test['Loan_Amount_Term'].value_counts() "
      ],
      "execution_count": 213,
      "outputs": [
        {
          "output_type": "execute_result",
          "data": {
            "text/plain": [
              "30.0    312\n",
              "15.0     22\n",
              "40.0      8\n",
              "10.0      8\n",
              "25.0      7\n",
              "20.0      4\n",
              "Name: Loan_Amount_Term, dtype: int64"
            ]
          },
          "metadata": {
            "tags": []
          },
          "execution_count": 213
        }
      ]
    },
    {
      "cell_type": "code",
      "metadata": {
        "id": "0hHSx8EFlRfW",
        "colab": {
          "base_uri": "https://localhost:8080/"
        },
        "outputId": "16273ba5-ac87-4512-9d0c-f47f50b2c6cf"
      },
      "source": [
        "print(data['Loan_Amount_Term'].isnull().sum())\n",
        "print(test['Loan_Amount_Term'].isnull().sum())"
      ],
      "execution_count": 214,
      "outputs": [
        {
          "output_type": "stream",
          "text": [
            "14\n",
            "6\n"
          ],
          "name": "stdout"
        }
      ]
    },
    {
      "cell_type": "code",
      "metadata": {
        "id": "qBQfct4KkzXt"
      },
      "source": [
        "data['Loan_Amount_Term'] = data['Loan_Amount_Term'].fillna(25)\n",
        "test['Loan_Amount_Term'] = test['Loan_Amount_Term'].fillna(25)"
      ],
      "execution_count": 215,
      "outputs": []
    },
    {
      "cell_type": "markdown",
      "metadata": {
        "id": "kLomMZbKhfNS"
      },
      "source": [
        "### Imputing the missing values for all the numerical variables using IterativeImputer :"
      ]
    },
    {
      "cell_type": "code",
      "metadata": {
        "id": "YsIHVdzfPv2c"
      },
      "source": [
        "from sklearn.experimental import enable_iterative_imputer\n",
        "from sklearn.impute import IterativeImputer\n",
        "imp = IterativeImputer()\n",
        "#y = data['Loan_Status']\n",
        "loan_ids_train = data['Loan_ID']\n",
        "loan_ids_test = test['Loan_ID']\n",
        "data_new = data.drop(['Loan_ID'],axis=1)\n",
        "test_new = test.drop(['Loan_ID'],axis=1)\n",
        "data_new[['ApplicantIncome','CoapplicantIncome','LoanAmount','Credit_History','Loan_Amount_Term']] = imp.fit_transform(data_new[['ApplicantIncome','CoapplicantIncome','LoanAmount','Credit_History','Loan_Amount_Term']])\n",
        "test_new[['ApplicantIncome','CoapplicantIncome','LoanAmount','Credit_History','Loan_Amount_Term']] = imp.transform(test_new[['ApplicantIncome','CoapplicantIncome','LoanAmount','Credit_History','Loan_Amount_Term']])"
      ],
      "execution_count": 216,
      "outputs": []
    },
    {
      "cell_type": "code",
      "metadata": {
        "id": "NRDybs_GFl0y",
        "colab": {
          "base_uri": "https://localhost:8080/"
        },
        "outputId": "57d45e31-37bb-4f34-dd20-cf123bf894b0"
      },
      "source": [
        "data_new['Loan_Amount_Term'].value_counts() "
      ],
      "execution_count": 217,
      "outputs": [
        {
          "output_type": "execute_result",
          "data": {
            "text/plain": [
              "30.0    511\n",
              "15.0     44\n",
              "25.0     27\n",
              "40.0     14\n",
              "10.0     12\n",
              "20.0      3\n",
              "Name: Loan_Amount_Term, dtype: int64"
            ]
          },
          "metadata": {
            "tags": []
          },
          "execution_count": 217
        }
      ]
    },
    {
      "cell_type": "code",
      "metadata": {
        "colab": {
          "base_uri": "https://localhost:8080/"
        },
        "id": "9HXl2nfCfzQE",
        "outputId": "c57172b7-63eb-4809-c2c6-1ef4901c8a07"
      },
      "source": [
        "test_new['Loan_Amount_Term'].value_counts() "
      ],
      "execution_count": 218,
      "outputs": [
        {
          "output_type": "execute_result",
          "data": {
            "text/plain": [
              "30.0    312\n",
              "15.0     22\n",
              "25.0     13\n",
              "40.0      8\n",
              "10.0      8\n",
              "20.0      4\n",
              "Name: Loan_Amount_Term, dtype: int64"
            ]
          },
          "metadata": {
            "tags": []
          },
          "execution_count": 218
        }
      ]
    },
    {
      "cell_type": "code",
      "metadata": {
        "id": "6F6zGnsJmvGI",
        "colab": {
          "base_uri": "https://localhost:8080/"
        },
        "outputId": "f811104e-1216-4526-deb5-0d9e48e0d4c4"
      },
      "source": [
        "data_new.isnull().mean()"
      ],
      "execution_count": 219,
      "outputs": [
        {
          "output_type": "execute_result",
          "data": {
            "text/plain": [
              "Gender               0.0\n",
              "Married              0.0\n",
              "Dependents           0.0\n",
              "Education            0.0\n",
              "Self_Employed        0.0\n",
              "ApplicantIncome      0.0\n",
              "CoapplicantIncome    0.0\n",
              "LoanAmount           0.0\n",
              "Loan_Amount_Term     0.0\n",
              "Credit_History       0.0\n",
              "Property_Area        0.0\n",
              "Loan_Status          0.0\n",
              "dtype: float64"
            ]
          },
          "metadata": {
            "tags": []
          },
          "execution_count": 219
        }
      ]
    },
    {
      "cell_type": "code",
      "metadata": {
        "id": "t__64VNEm0x-",
        "colab": {
          "base_uri": "https://localhost:8080/"
        },
        "outputId": "a49be40b-d9fd-4572-a13a-8edca1c3fcb5"
      },
      "source": [
        "test_new.isnull().mean()"
      ],
      "execution_count": 220,
      "outputs": [
        {
          "output_type": "execute_result",
          "data": {
            "text/plain": [
              "Gender               0.0\n",
              "Married              0.0\n",
              "Dependents           0.0\n",
              "Education            0.0\n",
              "Self_Employed        0.0\n",
              "ApplicantIncome      0.0\n",
              "CoapplicantIncome    0.0\n",
              "LoanAmount           0.0\n",
              "Loan_Amount_Term     0.0\n",
              "Credit_History       0.0\n",
              "Property_Area        0.0\n",
              "dtype: float64"
            ]
          },
          "metadata": {
            "tags": []
          },
          "execution_count": 220
        }
      ]
    },
    {
      "cell_type": "code",
      "metadata": {
        "id": "q2YZFwRFz_he",
        "colab": {
          "base_uri": "https://localhost:8080/",
          "height": 285
        },
        "outputId": "58f3a772-d08a-4d79-e379-ada295cf1ff2"
      },
      "source": [
        "sns.boxplot(data_new['ApplicantIncome'])\n",
        "plt.show()"
      ],
      "execution_count": 221,
      "outputs": [
        {
          "output_type": "display_data",
          "data": {
            "image/png": "[encoded data removed]",
            "text/plain": [
              "<Figure size 432x288 with 1 Axes>"
            ]
          },
          "metadata": {
            "tags": []
          }
        }
      ]
    },
    {
      "cell_type": "code",
      "metadata": {
        "id": "W0WAzMRC0b17",
        "colab": {
          "base_uri": "https://localhost:8080/",
          "height": 285
        },
        "outputId": "b94b5c6b-1c1b-40e1-8a3d-3ed41af197cf"
      },
      "source": [
        "sns.boxplot(test_new['ApplicantIncome'])\n",
        "plt.show()"
      ],
      "execution_count": 222,
      "outputs": [
        {
          "output_type": "display_data",
          "data": {
            "image/png": "[encoded data removed]",
            "text/plain": [
              "<Figure size 432x288 with 1 Axes>"
            ]
          },
          "metadata": {
            "tags": []
          }
        }
      ]
    },
    {
      "cell_type": "markdown",
      "metadata": {
        "id": "SYxK_Ylr1QBT"
      },
      "source": [
        "### Feature Engineering : Creating new variables for better results "
      ]
    },
    {
      "cell_type": "code",
      "metadata": {
        "id": "G0qa6bMP7nuM"
      },
      "source": [
        "data_new['Total_Income'] = data_new['ApplicantIncome'] + data_new['CoapplicantIncome']\n",
        "test_new['Total_Income'] = test_new['ApplicantIncome'] + test_new['CoapplicantIncome']\n",
        "data_new['Coapplicant_share'] = data_new['CoapplicantIncome']/data_new['Total_Income']\n",
        "test_new['Coapplicant_share'] = test_new['CoapplicantIncome']/test_new['Total_Income']"
      ],
      "execution_count": 223,
      "outputs": []
    },
    {
      "cell_type": "code",
      "metadata": {
        "id": "5VNIw2Hl3Izw"
      },
      "source": [
        "data_new['Coapplicant_share'] = data_new['Coapplicant_share']/100\n",
        "test_new['Coapplicant_share'] = test_new['Coapplicant_share']/100"
      ],
      "execution_count": 224,
      "outputs": []
    },
    {
      "cell_type": "code",
      "metadata": {
        "id": "2IQLiMKJ7sBc",
        "colab": {
          "base_uri": "https://localhost:8080/",
          "height": 232
        },
        "outputId": "b21211d3-1c02-4329-c766-2e7a050ecadb"
      },
      "source": [
        "data_new.head()"
      ],
      "execution_count": 225,
      "outputs": [
        {
          "output_type": "execute_result",
          "data": {
            "text/html": [
              "<div>\n",
              "<style scoped>\n",
              "    .dataframe tbody tr th:only-of-type {\n",
              "        vertical-align: middle;\n",
              "    }\n",
              "\n",
              "    .dataframe tbody tr th {\n",
              "        vertical-align: top;\n",
              "    }\n",
              "\n",
              "    .dataframe thead th {\n",
              "        text-align: right;\n",
              "    }\n",
              "</style>\n",
              "<table border=\"1\" class=\"dataframe\">\n",
              "  <thead>\n",
              "    <tr style=\"text-align: right;\">\n",
              "      <th></th>\n",
              "      <th>Gender</th>\n",
              "      <th>Married</th>\n",
              "      <th>Dependents</th>\n",
              "      <th>Education</th>\n",
              "      <th>Self_Employed</th>\n",
              "      <th>ApplicantIncome</th>\n",
              "      <th>CoapplicantIncome</th>\n",
              "      <th>LoanAmount</th>\n",
              "      <th>Loan_Amount_Term</th>\n",
              "      <th>Credit_History</th>\n",
              "      <th>Property_Area</th>\n",
              "      <th>Loan_Status</th>\n",
              "      <th>Total_Income</th>\n",
              "      <th>Coapplicant_share</th>\n",
              "    </tr>\n",
              "  </thead>\n",
              "  <tbody>\n",
              "    <tr>\n",
              "      <th>0</th>\n",
              "      <td>Male</td>\n",
              "      <td>No</td>\n",
              "      <td>0</td>\n",
              "      <td>Graduate</td>\n",
              "      <td>No</td>\n",
              "      <td>5849.0</td>\n",
              "      <td>0.0</td>\n",
              "      <td>137.983483</td>\n",
              "      <td>30.0</td>\n",
              "      <td>1.0</td>\n",
              "      <td>Urban</td>\n",
              "      <td>Y</td>\n",
              "      <td>5849.0</td>\n",
              "      <td>0.000000</td>\n",
              "    </tr>\n",
              "    <tr>\n",
              "      <th>1</th>\n",
              "      <td>Male</td>\n",
              "      <td>Yes</td>\n",
              "      <td>1</td>\n",
              "      <td>Graduate</td>\n",
              "      <td>No</td>\n",
              "      <td>4583.0</td>\n",
              "      <td>1508.0</td>\n",
              "      <td>128.000000</td>\n",
              "      <td>30.0</td>\n",
              "      <td>1.0</td>\n",
              "      <td>Rural</td>\n",
              "      <td>N</td>\n",
              "      <td>6091.0</td>\n",
              "      <td>0.002476</td>\n",
              "    </tr>\n",
              "    <tr>\n",
              "      <th>2</th>\n",
              "      <td>Male</td>\n",
              "      <td>Yes</td>\n",
              "      <td>0</td>\n",
              "      <td>Graduate</td>\n",
              "      <td>Yes</td>\n",
              "      <td>3000.0</td>\n",
              "      <td>0.0</td>\n",
              "      <td>66.000000</td>\n",
              "      <td>30.0</td>\n",
              "      <td>1.0</td>\n",
              "      <td>Urban</td>\n",
              "      <td>Y</td>\n",
              "      <td>3000.0</td>\n",
              "      <td>0.000000</td>\n",
              "    </tr>\n",
              "    <tr>\n",
              "      <th>3</th>\n",
              "      <td>Male</td>\n",
              "      <td>Yes</td>\n",
              "      <td>0</td>\n",
              "      <td>Not Graduate</td>\n",
              "      <td>No</td>\n",
              "      <td>2583.0</td>\n",
              "      <td>2358.0</td>\n",
              "      <td>120.000000</td>\n",
              "      <td>30.0</td>\n",
              "      <td>1.0</td>\n",
              "      <td>Urban</td>\n",
              "      <td>Y</td>\n",
              "      <td>4941.0</td>\n",
              "      <td>0.004772</td>\n",
              "    </tr>\n",
              "    <tr>\n",
              "      <th>4</th>\n",
              "      <td>Male</td>\n",
              "      <td>No</td>\n",
              "      <td>0</td>\n",
              "      <td>Graduate</td>\n",
              "      <td>No</td>\n",
              "      <td>6000.0</td>\n",
              "      <td>0.0</td>\n",
              "      <td>141.000000</td>\n",
              "      <td>30.0</td>\n",
              "      <td>1.0</td>\n",
              "      <td>Urban</td>\n",
              "      <td>Y</td>\n",
              "      <td>6000.0</td>\n",
              "      <td>0.000000</td>\n",
              "    </tr>\n",
              "  </tbody>\n",
              "</table>\n",
              "</div>"
            ],
            "text/plain": [
              "  Gender Married Dependents     Education Self_Employed  ApplicantIncome  \\\n",
              "0   Male      No          0      Graduate            No           5849.0   \n",
              "1   Male     Yes          1      Graduate            No           4583.0   \n",
              "2   Male     Yes          0      Graduate           Yes           3000.0   \n",
              "3   Male     Yes          0  Not Graduate            No           2583.0   \n",
              "4   Male      No          0      Graduate            No           6000.0   \n",
              "\n",
              "   CoapplicantIncome  LoanAmount  Loan_Amount_Term  Credit_History  \\\n",
              "0                0.0  137.983483              30.0             1.0   \n",
              "1             1508.0  128.000000              30.0             1.0   \n",
              "2                0.0   66.000000              30.0             1.0   \n",
              "3             2358.0  120.000000              30.0             1.0   \n",
              "4                0.0  141.000000              30.0             1.0   \n",
              "\n",
              "  Property_Area Loan_Status  Total_Income  Coapplicant_share  \n",
              "0         Urban           Y        5849.0           0.000000  \n",
              "1         Rural           N        6091.0           0.002476  \n",
              "2         Urban           Y        3000.0           0.000000  \n",
              "3         Urban           Y        4941.0           0.004772  \n",
              "4         Urban           Y        6000.0           0.000000  "
            ]
          },
          "metadata": {
            "tags": []
          },
          "execution_count": 225
        }
      ]
    },
    {
      "cell_type": "code",
      "metadata": {
        "id": "REQopVDeDhee",
        "colab": {
          "base_uri": "https://localhost:8080/",
          "height": 285
        },
        "outputId": "0dabbf1e-b0ba-40bd-ebb6-e4623dc6a8fe"
      },
      "source": [
        "sns.boxplot(data_new['Total_Income'])\n",
        "plt.show()"
      ],
      "execution_count": 226,
      "outputs": [
        {
          "output_type": "display_data",
          "data": {
            "image/png": "[encoded data removed]",
            "text/plain": [
              "<Figure size 432x288 with 1 Axes>"
            ]
          },
          "metadata": {
            "tags": []
          }
        }
      ]
    },
    {
      "cell_type": "code",
      "metadata": {
        "id": "U-IdvZBMDjnP",
        "colab": {
          "base_uri": "https://localhost:8080/",
          "height": 285
        },
        "outputId": "43fcec7c-9f65-451e-aaf6-406671fac716"
      },
      "source": [
        "sns.boxplot(test_new['Total_Income'])\n",
        "plt.show()"
      ],
      "execution_count": 227,
      "outputs": [
        {
          "output_type": "display_data",
          "data": {
            "image/png": "[encoded data removed]",
            "text/plain": [
              "<Figure size 432x288 with 1 Axes>"
            ]
          },
          "metadata": {
            "tags": []
          }
        }
      ]
    },
    {
      "cell_type": "code",
      "metadata": {
        "id": "ew0-WHxkETkx",
        "colab": {
          "base_uri": "https://localhost:8080/"
        },
        "outputId": "123050ce-e1bf-4270-8806-044ce034397b"
      },
      "source": [
        "data_new[data_new['Total_Income']<=50000].shape"
      ],
      "execution_count": 228,
      "outputs": [
        {
          "output_type": "execute_result",
          "data": {
            "text/plain": [
              "(608, 14)"
            ]
          },
          "metadata": {
            "tags": []
          },
          "execution_count": 228
        }
      ]
    },
    {
      "cell_type": "code",
      "metadata": {
        "id": "qvMbzPLDjdBi",
        "colab": {
          "base_uri": "https://localhost:8080/",
          "height": 285
        },
        "outputId": "f3f16672-28c3-4234-f17c-9dff6f96c5a7"
      },
      "source": [
        "sns.boxplot(data_new['LoanAmount'])\n",
        "plt.show()"
      ],
      "execution_count": 229,
      "outputs": [
        {
          "output_type": "display_data",
          "data": {
            "image/png": "[encoded data removed]",
            "text/plain": [
              "<Figure size 432x288 with 1 Axes>"
            ]
          },
          "metadata": {
            "tags": []
          }
        }
      ]
    },
    {
      "cell_type": "code",
      "metadata": {
        "id": "fJ8T3uX_jgKX",
        "colab": {
          "base_uri": "https://localhost:8080/",
          "height": 285
        },
        "outputId": "69b62faf-14d1-4f21-aff5-7c3b5f0c57b9"
      },
      "source": [
        "sns.boxplot(test_new['LoanAmount'])\n",
        "plt.show()"
      ],
      "execution_count": 230,
      "outputs": [
        {
          "output_type": "display_data",
          "data": {
            "image/png": "[encoded data removed]",
            "text/plain": [
              "<Figure size 432x288 with 1 Axes>"
            ]
          },
          "metadata": {
            "tags": []
          }
        }
      ]
    },
    {
      "cell_type": "code",
      "metadata": {
        "id": "EJ8rUbKGjnHy",
        "colab": {
          "base_uri": "https://localhost:8080/",
          "height": 285
        },
        "outputId": "10e8b392-f5d2-47c1-e614-9fea03cb9307"
      },
      "source": [
        "sns.boxplot(data_new['Loan_Amount_Term'])\n",
        "plt.show()"
      ],
      "execution_count": 231,
      "outputs": [
        {
          "output_type": "display_data",
          "data": {
            "image/png": "[encoded data removed]",
            "text/plain": [
              "<Figure size 432x288 with 1 Axes>"
            ]
          },
          "metadata": {
            "tags": []
          }
        }
      ]
    },
    {
      "cell_type": "code",
      "metadata": {
        "id": "SEUYulmuj7OL",
        "colab": {
          "base_uri": "https://localhost:8080/",
          "height": 285
        },
        "outputId": "a45e7069-ca83-4f53-b709-11b30dada4b0"
      },
      "source": [
        "sns.boxplot(test_new['Loan_Amount_Term'])\n",
        "plt.show()"
      ],
      "execution_count": 232,
      "outputs": [
        {
          "output_type": "display_data",
          "data": {
            "image/png": "[encoded data removed]",
            "text/plain": [
              "<Figure size 432x288 with 1 Axes>"
            ]
          },
          "metadata": {
            "tags": []
          }
        }
      ]
    },
    {
      "cell_type": "code",
      "metadata": {
        "id": "l6EC2c_WklGJ",
        "colab": {
          "base_uri": "https://localhost:8080/",
          "height": 285
        },
        "outputId": "a2500187-876f-40ad-cc9c-b01352a825e0"
      },
      "source": [
        "sns.boxplot(data_new['Coapplicant_share'])\n",
        "plt.show()"
      ],
      "execution_count": 233,
      "outputs": [
        {
          "output_type": "display_data",
          "data": {
            "image/png": "[encoded data removed]",
            "text/plain": [
              "<Figure size 432x288 with 1 Axes>"
            ]
          },
          "metadata": {
            "tags": []
          }
        }
      ]
    },
    {
      "cell_type": "code",
      "metadata": {
        "id": "zRLr4l5eke03",
        "colab": {
          "base_uri": "https://localhost:8080/",
          "height": 285
        },
        "outputId": "d2dab64a-dbb1-4cfa-defb-63614d8f1e2d"
      },
      "source": [
        "sns.boxplot(test_new['Coapplicant_share'])\n",
        "plt.show()"
      ],
      "execution_count": 234,
      "outputs": [
        {
          "output_type": "display_data",
          "data": {
            "image/png": "[encoded data removed]",
            "text/plain": [
              "<Figure size 432x288 with 1 Axes>"
            ]
          },
          "metadata": {
            "tags": []
          }
        }
      ]
    },
    {
      "cell_type": "code",
      "metadata": {
        "id": "Za8rOoTljODj",
        "colab": {
          "base_uri": "https://localhost:8080/"
        },
        "outputId": "251e603e-6aec-459b-a3bc-6e8917f42509"
      },
      "source": [
        "data_new.dtypes"
      ],
      "execution_count": 235,
      "outputs": [
        {
          "output_type": "execute_result",
          "data": {
            "text/plain": [
              "Gender                object\n",
              "Married               object\n",
              "Dependents            object\n",
              "Education             object\n",
              "Self_Employed         object\n",
              "ApplicantIncome      float64\n",
              "CoapplicantIncome    float64\n",
              "LoanAmount           float64\n",
              "Loan_Amount_Term     float64\n",
              "Credit_History       float64\n",
              "Property_Area         object\n",
              "Loan_Status           object\n",
              "Total_Income         float64\n",
              "Coapplicant_share    float64\n",
              "dtype: object"
            ]
          },
          "metadata": {
            "tags": []
          },
          "execution_count": 235
        }
      ]
    },
    {
      "cell_type": "code",
      "metadata": {
        "id": "U4-JNNKxEatM",
        "colab": {
          "base_uri": "https://localhost:8080/"
        },
        "outputId": "714a5792-4033-4b61-c7be-78395f2381ef"
      },
      "source": [
        "data_new.shape"
      ],
      "execution_count": 236,
      "outputs": [
        {
          "output_type": "execute_result",
          "data": {
            "text/plain": [
              "(611, 14)"
            ]
          },
          "metadata": {
            "tags": []
          },
          "execution_count": 236
        }
      ]
    },
    {
      "cell_type": "code",
      "metadata": {
        "id": "uH2na_60LItn",
        "colab": {
          "base_uri": "https://localhost:8080/"
        },
        "outputId": "ec34ed8a-0ee6-4aec-f315-a9b3cad2994a"
      },
      "source": [
        "test_new.shape"
      ],
      "execution_count": 237,
      "outputs": [
        {
          "output_type": "execute_result",
          "data": {
            "text/plain": [
              "(367, 13)"
            ]
          },
          "metadata": {
            "tags": []
          },
          "execution_count": 237
        }
      ]
    },
    {
      "cell_type": "code",
      "metadata": {
        "id": "122FtRoYEpOV"
      },
      "source": [
        "data_new = data_new[data_new['Total_Income']<=50000] \n",
        "#data_new = data_new[data_new['LoanAmount']<=600] "
      ],
      "execution_count": 238,
      "outputs": []
    },
    {
      "cell_type": "code",
      "metadata": {
        "id": "RmMxhSww8Y6x"
      },
      "source": [
        "# Creating the variable of EMI,i.e. 'Equalised Monthly Installments' : \n",
        "data_new['EMI'] = (data_new['LoanAmount']*1000)/data_new['Loan_Amount_Term']\n",
        "data_new['Monthly_savings'] = data_new['Total_Income'] - data_new['EMI']\n",
        "test_new['EMI'] = (test_new['LoanAmount']*1000)/test_new['Loan_Amount_Term']\n",
        "test_new['Monthly_savings'] = test_new['Total_Income'] - test_new['EMI'] "
      ],
      "execution_count": 239,
      "outputs": []
    },
    {
      "cell_type": "code",
      "metadata": {
        "id": "Ax2NfZt6Q2GN"
      },
      "source": [
        "data_new['Monthly_savings'] = round(data_new['Monthly_savings'],2)\n",
        "test_new['Monthly_savings'] = round(test_new['Monthly_savings'],2)"
      ],
      "execution_count": 240,
      "outputs": []
    },
    {
      "cell_type": "code",
      "metadata": {
        "id": "cHWCMceOSzXL"
      },
      "source": [
        "data_new['Coapplicant_share'] = data_new['Coapplicant_share']*100\n",
        "test_new['Coapplicant_share'] = test_new['Coapplicant_share']*100"
      ],
      "execution_count": 241,
      "outputs": []
    },
    {
      "cell_type": "code",
      "metadata": {
        "id": "5Pm6YlUdTtWk"
      },
      "source": [
        "data_new['Monthly_savings%'] = data_new['Monthly_savings']/data_new['Total_Income']\n",
        "test_new['Monthly_savings%'] = test_new['Monthly_savings']/test_new['Total_Income'] \n",
        "data_new['EMI'] = round(data_new['EMI'],2)\n",
        "test_new['EMI'] = round(test_new['EMI'],2)"
      ],
      "execution_count": 242,
      "outputs": []
    },
    {
      "cell_type": "code",
      "metadata": {
        "id": "d2P_NJGaVRxe"
      },
      "source": [
        "data_new['Monthly_savings%'] = round(data_new['Monthly_savings%'],4) \n",
        "test_new['Monthly_savings%'] = round(test_new['Monthly_savings%'],4) "
      ],
      "execution_count": 243,
      "outputs": []
    },
    {
      "cell_type": "code",
      "metadata": {
        "id": "5VOqLko-7Fqk"
      },
      "source": [
        "data_new['Coapplicant_share'] = round(data_new['Coapplicant_share'],4) \n",
        "test_new['Coapplicant_share'] = round(test_new['Coapplicant_share'],4) "
      ],
      "execution_count": 244,
      "outputs": []
    },
    {
      "cell_type": "code",
      "metadata": {
        "id": "EZG3dZsep7DI"
      },
      "source": [
        "data_new['ApplicantIncome_savings'] = data_new['ApplicantIncome'] - data_new['EMI']\n",
        "test_new['ApplicantIncome_savings'] = test_new['ApplicantIncome'] - test_new['EMI'] "
      ],
      "execution_count": 245,
      "outputs": []
    },
    {
      "cell_type": "code",
      "metadata": {
        "id": "9OyxHT1MriZx"
      },
      "source": [
        "data_new['ApplicantIncome_savings%'] = data_new['ApplicantIncome_savings'] / data_new['ApplicantIncome']\n",
        "test_new['ApplicantIncome_savings%'] = test_new['ApplicantIncome_savings'] / test_new['ApplicantIncome'] "
      ],
      "execution_count": 246,
      "outputs": []
    },
    {
      "cell_type": "code",
      "metadata": {
        "id": "oNJjKezBs3hp",
        "colab": {
          "base_uri": "https://localhost:8080/",
          "height": 232
        },
        "outputId": "d836b3ba-dc30-4ca3-ea5a-252976c9b4e8"
      },
      "source": [
        "data_new.head()"
      ],
      "execution_count": 247,
      "outputs": [
        {
          "output_type": "execute_result",
          "data": {
            "text/html": [
              "<div>\n",
              "<style scoped>\n",
              "    .dataframe tbody tr th:only-of-type {\n",
              "        vertical-align: middle;\n",
              "    }\n",
              "\n",
              "    .dataframe tbody tr th {\n",
              "        vertical-align: top;\n",
              "    }\n",
              "\n",
              "    .dataframe thead th {\n",
              "        text-align: right;\n",
              "    }\n",
              "</style>\n",
              "<table border=\"1\" class=\"dataframe\">\n",
              "  <thead>\n",
              "    <tr style=\"text-align: right;\">\n",
              "      <th></th>\n",
              "      <th>Gender</th>\n",
              "      <th>Married</th>\n",
              "      <th>Dependents</th>\n",
              "      <th>Education</th>\n",
              "      <th>Self_Employed</th>\n",
              "      <th>ApplicantIncome</th>\n",
              "      <th>CoapplicantIncome</th>\n",
              "      <th>LoanAmount</th>\n",
              "      <th>Loan_Amount_Term</th>\n",
              "      <th>Credit_History</th>\n",
              "      <th>Property_Area</th>\n",
              "      <th>Loan_Status</th>\n",
              "      <th>Total_Income</th>\n",
              "      <th>Coapplicant_share</th>\n",
              "      <th>EMI</th>\n",
              "      <th>Monthly_savings</th>\n",
              "      <th>Monthly_savings%</th>\n",
              "      <th>ApplicantIncome_savings</th>\n",
              "      <th>ApplicantIncome_savings%</th>\n",
              "    </tr>\n",
              "  </thead>\n",
              "  <tbody>\n",
              "    <tr>\n",
              "      <th>0</th>\n",
              "      <td>Male</td>\n",
              "      <td>No</td>\n",
              "      <td>0</td>\n",
              "      <td>Graduate</td>\n",
              "      <td>No</td>\n",
              "      <td>5849.0</td>\n",
              "      <td>0.0</td>\n",
              "      <td>137.983483</td>\n",
              "      <td>30.0</td>\n",
              "      <td>1.0</td>\n",
              "      <td>Urban</td>\n",
              "      <td>Y</td>\n",
              "      <td>5849.0</td>\n",
              "      <td>0.0000</td>\n",
              "      <td>4599.45</td>\n",
              "      <td>1249.55</td>\n",
              "      <td>0.2136</td>\n",
              "      <td>1249.55</td>\n",
              "      <td>0.213635</td>\n",
              "    </tr>\n",
              "    <tr>\n",
              "      <th>1</th>\n",
              "      <td>Male</td>\n",
              "      <td>Yes</td>\n",
              "      <td>1</td>\n",
              "      <td>Graduate</td>\n",
              "      <td>No</td>\n",
              "      <td>4583.0</td>\n",
              "      <td>1508.0</td>\n",
              "      <td>128.000000</td>\n",
              "      <td>30.0</td>\n",
              "      <td>1.0</td>\n",
              "      <td>Rural</td>\n",
              "      <td>N</td>\n",
              "      <td>6091.0</td>\n",
              "      <td>0.2476</td>\n",
              "      <td>4266.67</td>\n",
              "      <td>1824.33</td>\n",
              "      <td>0.2995</td>\n",
              "      <td>316.33</td>\n",
              "      <td>0.069022</td>\n",
              "    </tr>\n",
              "    <tr>\n",
              "      <th>2</th>\n",
              "      <td>Male</td>\n",
              "      <td>Yes</td>\n",
              "      <td>0</td>\n",
              "      <td>Graduate</td>\n",
              "      <td>Yes</td>\n",
              "      <td>3000.0</td>\n",
              "      <td>0.0</td>\n",
              "      <td>66.000000</td>\n",
              "      <td>30.0</td>\n",
              "      <td>1.0</td>\n",
              "      <td>Urban</td>\n",
              "      <td>Y</td>\n",
              "      <td>3000.0</td>\n",
              "      <td>0.0000</td>\n",
              "      <td>2200.00</td>\n",
              "      <td>800.00</td>\n",
              "      <td>0.2667</td>\n",
              "      <td>800.00</td>\n",
              "      <td>0.266667</td>\n",
              "    </tr>\n",
              "    <tr>\n",
              "      <th>3</th>\n",
              "      <td>Male</td>\n",
              "      <td>Yes</td>\n",
              "      <td>0</td>\n",
              "      <td>Not Graduate</td>\n",
              "      <td>No</td>\n",
              "      <td>2583.0</td>\n",
              "      <td>2358.0</td>\n",
              "      <td>120.000000</td>\n",
              "      <td>30.0</td>\n",
              "      <td>1.0</td>\n",
              "      <td>Urban</td>\n",
              "      <td>Y</td>\n",
              "      <td>4941.0</td>\n",
              "      <td>0.4772</td>\n",
              "      <td>4000.00</td>\n",
              "      <td>941.00</td>\n",
              "      <td>0.1904</td>\n",
              "      <td>-1417.00</td>\n",
              "      <td>-0.548587</td>\n",
              "    </tr>\n",
              "    <tr>\n",
              "      <th>4</th>\n",
              "      <td>Male</td>\n",
              "      <td>No</td>\n",
              "      <td>0</td>\n",
              "      <td>Graduate</td>\n",
              "      <td>No</td>\n",
              "      <td>6000.0</td>\n",
              "      <td>0.0</td>\n",
              "      <td>141.000000</td>\n",
              "      <td>30.0</td>\n",
              "      <td>1.0</td>\n",
              "      <td>Urban</td>\n",
              "      <td>Y</td>\n",
              "      <td>6000.0</td>\n",
              "      <td>0.0000</td>\n",
              "      <td>4700.00</td>\n",
              "      <td>1300.00</td>\n",
              "      <td>0.2167</td>\n",
              "      <td>1300.00</td>\n",
              "      <td>0.216667</td>\n",
              "    </tr>\n",
              "  </tbody>\n",
              "</table>\n",
              "</div>"
            ],
            "text/plain": [
              "  Gender Married Dependents     Education Self_Employed  ApplicantIncome  \\\n",
              "0   Male      No          0      Graduate            No           5849.0   \n",
              "1   Male     Yes          1      Graduate            No           4583.0   \n",
              "2   Male     Yes          0      Graduate           Yes           3000.0   \n",
              "3   Male     Yes          0  Not Graduate            No           2583.0   \n",
              "4   Male      No          0      Graduate            No           6000.0   \n",
              "\n",
              "   CoapplicantIncome  LoanAmount  Loan_Amount_Term  Credit_History  \\\n",
              "0                0.0  137.983483              30.0             1.0   \n",
              "1             1508.0  128.000000              30.0             1.0   \n",
              "2                0.0   66.000000              30.0             1.0   \n",
              "3             2358.0  120.000000              30.0             1.0   \n",
              "4                0.0  141.000000              30.0             1.0   \n",
              "\n",
              "  Property_Area Loan_Status  Total_Income  Coapplicant_share      EMI  \\\n",
              "0         Urban           Y        5849.0             0.0000  4599.45   \n",
              "1         Rural           N        6091.0             0.2476  4266.67   \n",
              "2         Urban           Y        3000.0             0.0000  2200.00   \n",
              "3         Urban           Y        4941.0             0.4772  4000.00   \n",
              "4         Urban           Y        6000.0             0.0000  4700.00   \n",
              "\n",
              "   Monthly_savings  Monthly_savings%  ApplicantIncome_savings  \\\n",
              "0          1249.55            0.2136                  1249.55   \n",
              "1          1824.33            0.2995                   316.33   \n",
              "2           800.00            0.2667                   800.00   \n",
              "3           941.00            0.1904                 -1417.00   \n",
              "4          1300.00            0.2167                  1300.00   \n",
              "\n",
              "   ApplicantIncome_savings%  \n",
              "0                  0.213635  \n",
              "1                  0.069022  \n",
              "2                  0.266667  \n",
              "3                 -0.548587  \n",
              "4                  0.216667  "
            ]
          },
          "metadata": {
            "tags": []
          },
          "execution_count": 247
        }
      ]
    },
    {
      "cell_type": "code",
      "metadata": {
        "id": "jVPREcRjs1P_"
      },
      "source": [
        "data_new['ApplicantIncome_savings%'] = round(data_new['ApplicantIncome_savings%'],4) \n",
        "test_new['ApplicantIncome_savings%'] = round(test_new['ApplicantIncome_savings%'],4) "
      ],
      "execution_count": 248,
      "outputs": []
    },
    {
      "cell_type": "code",
      "metadata": {
        "id": "kln8jEpctbEF",
        "colab": {
          "base_uri": "https://localhost:8080/",
          "height": 232
        },
        "outputId": "b7bae38f-1b11-4489-8ff0-57420b639f58"
      },
      "source": [
        "data_new.head()"
      ],
      "execution_count": 249,
      "outputs": [
        {
          "output_type": "execute_result",
          "data": {
            "text/html": [
              "<div>\n",
              "<style scoped>\n",
              "    .dataframe tbody tr th:only-of-type {\n",
              "        vertical-align: middle;\n",
              "    }\n",
              "\n",
              "    .dataframe tbody tr th {\n",
              "        vertical-align: top;\n",
              "    }\n",
              "\n",
              "    .dataframe thead th {\n",
              "        text-align: right;\n",
              "    }\n",
              "</style>\n",
              "<table border=\"1\" class=\"dataframe\">\n",
              "  <thead>\n",
              "    <tr style=\"text-align: right;\">\n",
              "      <th></th>\n",
              "      <th>Gender</th>\n",
              "      <th>Married</th>\n",
              "      <th>Dependents</th>\n",
              "      <th>Education</th>\n",
              "      <th>Self_Employed</th>\n",
              "      <th>ApplicantIncome</th>\n",
              "      <th>CoapplicantIncome</th>\n",
              "      <th>LoanAmount</th>\n",
              "      <th>Loan_Amount_Term</th>\n",
              "      <th>Credit_History</th>\n",
              "      <th>Property_Area</th>\n",
              "      <th>Loan_Status</th>\n",
              "      <th>Total_Income</th>\n",
              "      <th>Coapplicant_share</th>\n",
              "      <th>EMI</th>\n",
              "      <th>Monthly_savings</th>\n",
              "      <th>Monthly_savings%</th>\n",
              "      <th>ApplicantIncome_savings</th>\n",
              "      <th>ApplicantIncome_savings%</th>\n",
              "    </tr>\n",
              "  </thead>\n",
              "  <tbody>\n",
              "    <tr>\n",
              "      <th>0</th>\n",
              "      <td>Male</td>\n",
              "      <td>No</td>\n",
              "      <td>0</td>\n",
              "      <td>Graduate</td>\n",
              "      <td>No</td>\n",
              "      <td>5849.0</td>\n",
              "      <td>0.0</td>\n",
              "      <td>137.983483</td>\n",
              "      <td>30.0</td>\n",
              "      <td>1.0</td>\n",
              "      <td>Urban</td>\n",
              "      <td>Y</td>\n",
              "      <td>5849.0</td>\n",
              "      <td>0.0000</td>\n",
              "      <td>4599.45</td>\n",
              "      <td>1249.55</td>\n",
              "      <td>0.2136</td>\n",
              "      <td>1249.55</td>\n",
              "      <td>0.2136</td>\n",
              "    </tr>\n",
              "    <tr>\n",
              "      <th>1</th>\n",
              "      <td>Male</td>\n",
              "      <td>Yes</td>\n",
              "      <td>1</td>\n",
              "      <td>Graduate</td>\n",
              "      <td>No</td>\n",
              "      <td>4583.0</td>\n",
              "      <td>1508.0</td>\n",
              "      <td>128.000000</td>\n",
              "      <td>30.0</td>\n",
              "      <td>1.0</td>\n",
              "      <td>Rural</td>\n",
              "      <td>N</td>\n",
              "      <td>6091.0</td>\n",
              "      <td>0.2476</td>\n",
              "      <td>4266.67</td>\n",
              "      <td>1824.33</td>\n",
              "      <td>0.2995</td>\n",
              "      <td>316.33</td>\n",
              "      <td>0.0690</td>\n",
              "    </tr>\n",
              "    <tr>\n",
              "      <th>2</th>\n",
              "      <td>Male</td>\n",
              "      <td>Yes</td>\n",
              "      <td>0</td>\n",
              "      <td>Graduate</td>\n",
              "      <td>Yes</td>\n",
              "      <td>3000.0</td>\n",
              "      <td>0.0</td>\n",
              "      <td>66.000000</td>\n",
              "      <td>30.0</td>\n",
              "      <td>1.0</td>\n",
              "      <td>Urban</td>\n",
              "      <td>Y</td>\n",
              "      <td>3000.0</td>\n",
              "      <td>0.0000</td>\n",
              "      <td>2200.00</td>\n",
              "      <td>800.00</td>\n",
              "      <td>0.2667</td>\n",
              "      <td>800.00</td>\n",
              "      <td>0.2667</td>\n",
              "    </tr>\n",
              "    <tr>\n",
              "      <th>3</th>\n",
              "      <td>Male</td>\n",
              "      <td>Yes</td>\n",
              "      <td>0</td>\n",
              "      <td>Not Graduate</td>\n",
              "      <td>No</td>\n",
              "      <td>2583.0</td>\n",
              "      <td>2358.0</td>\n",
              "      <td>120.000000</td>\n",
              "      <td>30.0</td>\n",
              "      <td>1.0</td>\n",
              "      <td>Urban</td>\n",
              "      <td>Y</td>\n",
              "      <td>4941.0</td>\n",
              "      <td>0.4772</td>\n",
              "      <td>4000.00</td>\n",
              "      <td>941.00</td>\n",
              "      <td>0.1904</td>\n",
              "      <td>-1417.00</td>\n",
              "      <td>-0.5486</td>\n",
              "    </tr>\n",
              "    <tr>\n",
              "      <th>4</th>\n",
              "      <td>Male</td>\n",
              "      <td>No</td>\n",
              "      <td>0</td>\n",
              "      <td>Graduate</td>\n",
              "      <td>No</td>\n",
              "      <td>6000.0</td>\n",
              "      <td>0.0</td>\n",
              "      <td>141.000000</td>\n",
              "      <td>30.0</td>\n",
              "      <td>1.0</td>\n",
              "      <td>Urban</td>\n",
              "      <td>Y</td>\n",
              "      <td>6000.0</td>\n",
              "      <td>0.0000</td>\n",
              "      <td>4700.00</td>\n",
              "      <td>1300.00</td>\n",
              "      <td>0.2167</td>\n",
              "      <td>1300.00</td>\n",
              "      <td>0.2167</td>\n",
              "    </tr>\n",
              "  </tbody>\n",
              "</table>\n",
              "</div>"
            ],
            "text/plain": [
              "  Gender Married Dependents     Education Self_Employed  ApplicantIncome  \\\n",
              "0   Male      No          0      Graduate            No           5849.0   \n",
              "1   Male     Yes          1      Graduate            No           4583.0   \n",
              "2   Male     Yes          0      Graduate           Yes           3000.0   \n",
              "3   Male     Yes          0  Not Graduate            No           2583.0   \n",
              "4   Male      No          0      Graduate            No           6000.0   \n",
              "\n",
              "   CoapplicantIncome  LoanAmount  Loan_Amount_Term  Credit_History  \\\n",
              "0                0.0  137.983483              30.0             1.0   \n",
              "1             1508.0  128.000000              30.0             1.0   \n",
              "2                0.0   66.000000              30.0             1.0   \n",
              "3             2358.0  120.000000              30.0             1.0   \n",
              "4                0.0  141.000000              30.0             1.0   \n",
              "\n",
              "  Property_Area Loan_Status  Total_Income  Coapplicant_share      EMI  \\\n",
              "0         Urban           Y        5849.0             0.0000  4599.45   \n",
              "1         Rural           N        6091.0             0.2476  4266.67   \n",
              "2         Urban           Y        3000.0             0.0000  2200.00   \n",
              "3         Urban           Y        4941.0             0.4772  4000.00   \n",
              "4         Urban           Y        6000.0             0.0000  4700.00   \n",
              "\n",
              "   Monthly_savings  Monthly_savings%  ApplicantIncome_savings  \\\n",
              "0          1249.55            0.2136                  1249.55   \n",
              "1          1824.33            0.2995                   316.33   \n",
              "2           800.00            0.2667                   800.00   \n",
              "3           941.00            0.1904                 -1417.00   \n",
              "4          1300.00            0.2167                  1300.00   \n",
              "\n",
              "   ApplicantIncome_savings%  \n",
              "0                    0.2136  \n",
              "1                    0.0690  \n",
              "2                    0.2667  \n",
              "3                   -0.5486  \n",
              "4                    0.2167  "
            ]
          },
          "metadata": {
            "tags": []
          },
          "execution_count": 249
        }
      ]
    },
    {
      "cell_type": "code",
      "metadata": {
        "id": "Il2P3Q2B9Oss"
      },
      "source": [
        "data_new['ApplicantIncome_savings_less'] = data_new['ApplicantIncome_savings'].apply(lambda x : 1 if x < 0 else 0)\n",
        "test_new['ApplicantIncome_savings_less'] = test_new['ApplicantIncome_savings'].apply(lambda x : 1 if x < 0 else 0)"
      ],
      "execution_count": 250,
      "outputs": []
    },
    {
      "cell_type": "code",
      "metadata": {
        "id": "Ah8TLWmxzH6l",
        "colab": {
          "base_uri": "https://localhost:8080/"
        },
        "outputId": "a360882c-14c0-4018-bf56-e67c973545f2"
      },
      "source": [
        "data_new[data_new['Coapplicant_share'] > 0.50]['Loan_Status'].value_counts(normalize=True)"
      ],
      "execution_count": 251,
      "outputs": [
        {
          "output_type": "execute_result",
          "data": {
            "text/plain": [
              "Y    0.638889\n",
              "N    0.361111\n",
              "Name: Loan_Status, dtype: float64"
            ]
          },
          "metadata": {
            "tags": []
          },
          "execution_count": 251
        }
      ]
    },
    {
      "cell_type": "code",
      "metadata": {
        "id": "brKuq874dXy3",
        "colab": {
          "base_uri": "https://localhost:8080/"
        },
        "outputId": "2245a18f-91e9-4476-857f-3e2f81770f08"
      },
      "source": [
        "data_new['Loan_Status'].value_counts(normalize=True)"
      ],
      "execution_count": 252,
      "outputs": [
        {
          "output_type": "execute_result",
          "data": {
            "text/plain": [
              "Y    0.685855\n",
              "N    0.314145\n",
              "Name: Loan_Status, dtype: float64"
            ]
          },
          "metadata": {
            "tags": []
          },
          "execution_count": 252
        }
      ]
    },
    {
      "cell_type": "code",
      "metadata": {
        "id": "H9ifBWIXeITU"
      },
      "source": [
        "data_new['Coapplicant_Dependent'] = data_new['Coapplicant_share'].apply(lambda x : 1 if x >= 0.5 else 0)\n",
        "test_new['Coapplicant_Dependent'] = test_new['Coapplicant_share'].apply(lambda x : 1 if x >= 0.5 else 0)"
      ],
      "execution_count": 253,
      "outputs": []
    },
    {
      "cell_type": "code",
      "metadata": {
        "id": "jPR71LPNzPEZ",
        "colab": {
          "base_uri": "https://localhost:8080/",
          "height": 489
        },
        "outputId": "e7c75858-a23a-4cc6-fdf0-e381207225a8"
      },
      "source": [
        "data_new[data_new['ApplicantIncome_savings_less']==1]"
      ],
      "execution_count": 254,
      "outputs": [
        {
          "output_type": "execute_result",
          "data": {
            "text/html": [
              "<div>\n",
              "<style scoped>\n",
              "    .dataframe tbody tr th:only-of-type {\n",
              "        vertical-align: middle;\n",
              "    }\n",
              "\n",
              "    .dataframe tbody tr th {\n",
              "        vertical-align: top;\n",
              "    }\n",
              "\n",
              "    .dataframe thead th {\n",
              "        text-align: right;\n",
              "    }\n",
              "</style>\n",
              "<table border=\"1\" class=\"dataframe\">\n",
              "  <thead>\n",
              "    <tr style=\"text-align: right;\">\n",
              "      <th></th>\n",
              "      <th>Gender</th>\n",
              "      <th>Married</th>\n",
              "      <th>Dependents</th>\n",
              "      <th>Education</th>\n",
              "      <th>Self_Employed</th>\n",
              "      <th>ApplicantIncome</th>\n",
              "      <th>CoapplicantIncome</th>\n",
              "      <th>LoanAmount</th>\n",
              "      <th>Loan_Amount_Term</th>\n",
              "      <th>Credit_History</th>\n",
              "      <th>Property_Area</th>\n",
              "      <th>Loan_Status</th>\n",
              "      <th>Total_Income</th>\n",
              "      <th>Coapplicant_share</th>\n",
              "      <th>EMI</th>\n",
              "      <th>Monthly_savings</th>\n",
              "      <th>Monthly_savings%</th>\n",
              "      <th>ApplicantIncome_savings</th>\n",
              "      <th>ApplicantIncome_savings%</th>\n",
              "      <th>ApplicantIncome_savings_less</th>\n",
              "      <th>Coapplicant_Dependent</th>\n",
              "    </tr>\n",
              "  </thead>\n",
              "  <tbody>\n",
              "    <tr>\n",
              "      <th>3</th>\n",
              "      <td>Male</td>\n",
              "      <td>Yes</td>\n",
              "      <td>0</td>\n",
              "      <td>Not Graduate</td>\n",
              "      <td>No</td>\n",
              "      <td>2583.0</td>\n",
              "      <td>2358.0</td>\n",
              "      <td>120.000000</td>\n",
              "      <td>30.0</td>\n",
              "      <td>1.0</td>\n",
              "      <td>Urban</td>\n",
              "      <td>Y</td>\n",
              "      <td>4941.0</td>\n",
              "      <td>0.4772</td>\n",
              "      <td>4000.00</td>\n",
              "      <td>941.00</td>\n",
              "      <td>0.1904</td>\n",
              "      <td>-1417.00</td>\n",
              "      <td>-0.5486</td>\n",
              "      <td>1</td>\n",
              "      <td>0</td>\n",
              "    </tr>\n",
              "    <tr>\n",
              "      <th>5</th>\n",
              "      <td>Male</td>\n",
              "      <td>Yes</td>\n",
              "      <td>2</td>\n",
              "      <td>Graduate</td>\n",
              "      <td>Yes</td>\n",
              "      <td>5417.0</td>\n",
              "      <td>4196.0</td>\n",
              "      <td>267.000000</td>\n",
              "      <td>30.0</td>\n",
              "      <td>1.0</td>\n",
              "      <td>Urban</td>\n",
              "      <td>Y</td>\n",
              "      <td>9613.0</td>\n",
              "      <td>0.4365</td>\n",
              "      <td>8900.00</td>\n",
              "      <td>713.00</td>\n",
              "      <td>0.0742</td>\n",
              "      <td>-3483.00</td>\n",
              "      <td>-0.6430</td>\n",
              "      <td>1</td>\n",
              "      <td>0</td>\n",
              "    </tr>\n",
              "    <tr>\n",
              "      <th>6</th>\n",
              "      <td>Male</td>\n",
              "      <td>Yes</td>\n",
              "      <td>0</td>\n",
              "      <td>Not Graduate</td>\n",
              "      <td>No</td>\n",
              "      <td>2333.0</td>\n",
              "      <td>1516.0</td>\n",
              "      <td>95.000000</td>\n",
              "      <td>30.0</td>\n",
              "      <td>1.0</td>\n",
              "      <td>Urban</td>\n",
              "      <td>Y</td>\n",
              "      <td>3849.0</td>\n",
              "      <td>0.3939</td>\n",
              "      <td>3166.67</td>\n",
              "      <td>682.33</td>\n",
              "      <td>0.1773</td>\n",
              "      <td>-833.67</td>\n",
              "      <td>-0.3573</td>\n",
              "      <td>1</td>\n",
              "      <td>0</td>\n",
              "    </tr>\n",
              "    <tr>\n",
              "      <th>7</th>\n",
              "      <td>Male</td>\n",
              "      <td>Yes</td>\n",
              "      <td>3+</td>\n",
              "      <td>Graduate</td>\n",
              "      <td>No</td>\n",
              "      <td>3036.0</td>\n",
              "      <td>2504.0</td>\n",
              "      <td>158.000000</td>\n",
              "      <td>30.0</td>\n",
              "      <td>0.0</td>\n",
              "      <td>Semiurban</td>\n",
              "      <td>N</td>\n",
              "      <td>5540.0</td>\n",
              "      <td>0.4520</td>\n",
              "      <td>5266.67</td>\n",
              "      <td>273.33</td>\n",
              "      <td>0.0493</td>\n",
              "      <td>-2230.67</td>\n",
              "      <td>-0.7347</td>\n",
              "      <td>1</td>\n",
              "      <td>0</td>\n",
              "    </tr>\n",
              "    <tr>\n",
              "      <th>8</th>\n",
              "      <td>Male</td>\n",
              "      <td>Yes</td>\n",
              "      <td>2</td>\n",
              "      <td>Graduate</td>\n",
              "      <td>No</td>\n",
              "      <td>4006.0</td>\n",
              "      <td>1526.0</td>\n",
              "      <td>168.000000</td>\n",
              "      <td>30.0</td>\n",
              "      <td>1.0</td>\n",
              "      <td>Urban</td>\n",
              "      <td>Y</td>\n",
              "      <td>5532.0</td>\n",
              "      <td>0.2758</td>\n",
              "      <td>5600.00</td>\n",
              "      <td>-68.00</td>\n",
              "      <td>-0.0123</td>\n",
              "      <td>-1594.00</td>\n",
              "      <td>-0.3979</td>\n",
              "      <td>1</td>\n",
              "      <td>0</td>\n",
              "    </tr>\n",
              "    <tr>\n",
              "      <th>...</th>\n",
              "      <td>...</td>\n",
              "      <td>...</td>\n",
              "      <td>...</td>\n",
              "      <td>...</td>\n",
              "      <td>...</td>\n",
              "      <td>...</td>\n",
              "      <td>...</td>\n",
              "      <td>...</td>\n",
              "      <td>...</td>\n",
              "      <td>...</td>\n",
              "      <td>...</td>\n",
              "      <td>...</td>\n",
              "      <td>...</td>\n",
              "      <td>...</td>\n",
              "      <td>...</td>\n",
              "      <td>...</td>\n",
              "      <td>...</td>\n",
              "      <td>...</td>\n",
              "      <td>...</td>\n",
              "      <td>...</td>\n",
              "      <td>...</td>\n",
              "    </tr>\n",
              "    <tr>\n",
              "      <th>605</th>\n",
              "      <td>Male</td>\n",
              "      <td>Yes</td>\n",
              "      <td>0</td>\n",
              "      <td>Not Graduate</td>\n",
              "      <td>No</td>\n",
              "      <td>2400.0</td>\n",
              "      <td>3800.0</td>\n",
              "      <td>137.135827</td>\n",
              "      <td>15.0</td>\n",
              "      <td>1.0</td>\n",
              "      <td>Urban</td>\n",
              "      <td>N</td>\n",
              "      <td>6200.0</td>\n",
              "      <td>0.6129</td>\n",
              "      <td>9142.39</td>\n",
              "      <td>-2942.39</td>\n",
              "      <td>-0.4746</td>\n",
              "      <td>-6742.39</td>\n",
              "      <td>-2.8093</td>\n",
              "      <td>1</td>\n",
              "      <td>1</td>\n",
              "    </tr>\n",
              "    <tr>\n",
              "      <th>606</th>\n",
              "      <td>Male</td>\n",
              "      <td>Yes</td>\n",
              "      <td>1</td>\n",
              "      <td>Graduate</td>\n",
              "      <td>No</td>\n",
              "      <td>3400.0</td>\n",
              "      <td>2500.0</td>\n",
              "      <td>173.000000</td>\n",
              "      <td>30.0</td>\n",
              "      <td>1.0</td>\n",
              "      <td>Semiurban</td>\n",
              "      <td>Y</td>\n",
              "      <td>5900.0</td>\n",
              "      <td>0.4237</td>\n",
              "      <td>5766.67</td>\n",
              "      <td>133.33</td>\n",
              "      <td>0.0226</td>\n",
              "      <td>-2366.67</td>\n",
              "      <td>-0.6961</td>\n",
              "      <td>1</td>\n",
              "      <td>0</td>\n",
              "    </tr>\n",
              "    <tr>\n",
              "      <th>607</th>\n",
              "      <td>Male</td>\n",
              "      <td>Yes</td>\n",
              "      <td>2</td>\n",
              "      <td>Not Graduate</td>\n",
              "      <td>No</td>\n",
              "      <td>3987.0</td>\n",
              "      <td>1411.0</td>\n",
              "      <td>157.000000</td>\n",
              "      <td>30.0</td>\n",
              "      <td>1.0</td>\n",
              "      <td>Rural</td>\n",
              "      <td>Y</td>\n",
              "      <td>5398.0</td>\n",
              "      <td>0.2614</td>\n",
              "      <td>5233.33</td>\n",
              "      <td>164.67</td>\n",
              "      <td>0.0305</td>\n",
              "      <td>-1246.33</td>\n",
              "      <td>-0.3126</td>\n",
              "      <td>1</td>\n",
              "      <td>0</td>\n",
              "    </tr>\n",
              "    <tr>\n",
              "      <th>608</th>\n",
              "      <td>Male</td>\n",
              "      <td>Yes</td>\n",
              "      <td>0</td>\n",
              "      <td>Graduate</td>\n",
              "      <td>No</td>\n",
              "      <td>3232.0</td>\n",
              "      <td>1950.0</td>\n",
              "      <td>108.000000</td>\n",
              "      <td>30.0</td>\n",
              "      <td>1.0</td>\n",
              "      <td>Rural</td>\n",
              "      <td>Y</td>\n",
              "      <td>5182.0</td>\n",
              "      <td>0.3763</td>\n",
              "      <td>3600.00</td>\n",
              "      <td>1582.00</td>\n",
              "      <td>0.3053</td>\n",
              "      <td>-368.00</td>\n",
              "      <td>-0.1139</td>\n",
              "      <td>1</td>\n",
              "      <td>0</td>\n",
              "    </tr>\n",
              "    <tr>\n",
              "      <th>611</th>\n",
              "      <td>Male</td>\n",
              "      <td>Yes</td>\n",
              "      <td>1</td>\n",
              "      <td>Graduate</td>\n",
              "      <td>No</td>\n",
              "      <td>8072.0</td>\n",
              "      <td>240.0</td>\n",
              "      <td>253.000000</td>\n",
              "      <td>30.0</td>\n",
              "      <td>1.0</td>\n",
              "      <td>Urban</td>\n",
              "      <td>Y</td>\n",
              "      <td>8312.0</td>\n",
              "      <td>0.0289</td>\n",
              "      <td>8433.33</td>\n",
              "      <td>-121.33</td>\n",
              "      <td>-0.0146</td>\n",
              "      <td>-361.33</td>\n",
              "      <td>-0.0448</td>\n",
              "      <td>1</td>\n",
              "      <td>0</td>\n",
              "    </tr>\n",
              "  </tbody>\n",
              "</table>\n",
              "<p>347 rows × 21 columns</p>\n",
              "</div>"
            ],
            "text/plain": [
              "    Gender Married Dependents     Education Self_Employed  ApplicantIncome  \\\n",
              "3     Male     Yes          0  Not Graduate            No           2583.0   \n",
              "5     Male     Yes          2      Graduate           Yes           5417.0   \n",
              "6     Male     Yes          0  Not Graduate            No           2333.0   \n",
              "7     Male     Yes         3+      Graduate            No           3036.0   \n",
              "8     Male     Yes          2      Graduate            No           4006.0   \n",
              "..     ...     ...        ...           ...           ...              ...   \n",
              "605   Male     Yes          0  Not Graduate            No           2400.0   \n",
              "606   Male     Yes          1      Graduate            No           3400.0   \n",
              "607   Male     Yes          2  Not Graduate            No           3987.0   \n",
              "608   Male     Yes          0      Graduate            No           3232.0   \n",
              "611   Male     Yes          1      Graduate            No           8072.0   \n",
              "\n",
              "     CoapplicantIncome  LoanAmount  Loan_Amount_Term  Credit_History  \\\n",
              "3               2358.0  120.000000              30.0             1.0   \n",
              "5               4196.0  267.000000              30.0             1.0   \n",
              "6               1516.0   95.000000              30.0             1.0   \n",
              "7               2504.0  158.000000              30.0             0.0   \n",
              "8               1526.0  168.000000              30.0             1.0   \n",
              "..                 ...         ...               ...             ...   \n",
              "605             3800.0  137.135827              15.0             1.0   \n",
              "606             2500.0  173.000000              30.0             1.0   \n",
              "607             1411.0  157.000000              30.0             1.0   \n",
              "608             1950.0  108.000000              30.0             1.0   \n",
              "611              240.0  253.000000              30.0             1.0   \n",
              "\n",
              "    Property_Area Loan_Status  Total_Income  Coapplicant_share      EMI  \\\n",
              "3           Urban           Y        4941.0             0.4772  4000.00   \n",
              "5           Urban           Y        9613.0             0.4365  8900.00   \n",
              "6           Urban           Y        3849.0             0.3939  3166.67   \n",
              "7       Semiurban           N        5540.0             0.4520  5266.67   \n",
              "8           Urban           Y        5532.0             0.2758  5600.00   \n",
              "..            ...         ...           ...                ...      ...   \n",
              "605         Urban           N        6200.0             0.6129  9142.39   \n",
              "606     Semiurban           Y        5900.0             0.4237  5766.67   \n",
              "607         Rural           Y        5398.0             0.2614  5233.33   \n",
              "608         Rural           Y        5182.0             0.3763  3600.00   \n",
              "611         Urban           Y        8312.0             0.0289  8433.33   \n",
              "\n",
              "     Monthly_savings  Monthly_savings%  ApplicantIncome_savings  \\\n",
              "3             941.00            0.1904                 -1417.00   \n",
              "5             713.00            0.0742                 -3483.00   \n",
              "6             682.33            0.1773                  -833.67   \n",
              "7             273.33            0.0493                 -2230.67   \n",
              "8             -68.00           -0.0123                 -1594.00   \n",
              "..               ...               ...                      ...   \n",
              "605         -2942.39           -0.4746                 -6742.39   \n",
              "606           133.33            0.0226                 -2366.67   \n",
              "607           164.67            0.0305                 -1246.33   \n",
              "608          1582.00            0.3053                  -368.00   \n",
              "611          -121.33           -0.0146                  -361.33   \n",
              "\n",
              "     ApplicantIncome_savings%  ApplicantIncome_savings_less  \\\n",
              "3                     -0.5486                             1   \n",
              "5                     -0.6430                             1   \n",
              "6                     -0.3573                             1   \n",
              "7                     -0.7347                             1   \n",
              "8                     -0.3979                             1   \n",
              "..                        ...                           ...   \n",
              "605                   -2.8093                             1   \n",
              "606                   -0.6961                             1   \n",
              "607                   -0.3126                             1   \n",
              "608                   -0.1139                             1   \n",
              "611                   -0.0448                             1   \n",
              "\n",
              "     Coapplicant_Dependent  \n",
              "3                        0  \n",
              "5                        0  \n",
              "6                        0  \n",
              "7                        0  \n",
              "8                        0  \n",
              "..                     ...  \n",
              "605                      1  \n",
              "606                      0  \n",
              "607                      0  \n",
              "608                      0  \n",
              "611                      0  \n",
              "\n",
              "[347 rows x 21 columns]"
            ]
          },
          "metadata": {
            "tags": []
          },
          "execution_count": 254
        }
      ]
    },
    {
      "cell_type": "code",
      "metadata": {
        "id": "PSz6Ehvyz_3T"
      },
      "source": [
        "data_new = data_new.drop(['ApplicantIncome_savings','ApplicantIncome_savings%','ApplicantIncome','CoapplicantIncome'],axis=1)\n",
        "test_new = test_new.drop(['ApplicantIncome_savings','ApplicantIncome_savings%','ApplicantIncome','CoapplicantIncome'],axis=1) "
      ],
      "execution_count": 255,
      "outputs": []
    },
    {
      "cell_type": "code",
      "metadata": {
        "id": "F6OnsRGNgbyF",
        "colab": {
          "base_uri": "https://localhost:8080/",
          "height": 283
        },
        "outputId": "e5c1ae6c-3602-44ca-8662-323ebc44f051"
      },
      "source": [
        "data_new.groupby(\"Loan_Status\")['Monthly_savings'].median().plot.bar()\n",
        "plt.show()"
      ],
      "execution_count": 256,
      "outputs": [
        {
          "output_type": "display_data",
          "data": {
            "image/png": "[encoded data removed]",
            "text/plain": [
              "<Figure size 432x288 with 1 Axes>"
            ]
          },
          "metadata": {
            "tags": []
          }
        }
      ]
    },
    {
      "cell_type": "code",
      "metadata": {
        "id": "jdIZEwlpkgWm",
        "colab": {
          "base_uri": "https://localhost:8080/",
          "height": 283
        },
        "outputId": "4c07805a-8a98-4e01-9ac4-4f6d36f4acb5"
      },
      "source": [
        "data_new.groupby(\"Loan_Status\")['Coapplicant_share'].median().plot.bar()\n",
        "plt.show()"
      ],
      "execution_count": 257,
      "outputs": [
        {
          "output_type": "display_data",
          "data": {
            "image/png": "[encoded data removed]",
            "text/plain": [
              "<Figure size 432x288 with 1 Axes>"
            ]
          },
          "metadata": {
            "tags": []
          }
        }
      ]
    },
    {
      "cell_type": "code",
      "metadata": {
        "id": "uaThmZ8mlVWx",
        "colab": {
          "base_uri": "https://localhost:8080/",
          "height": 283
        },
        "outputId": "b230d748-55f1-4d4d-d0ae-0e30e7c1568e"
      },
      "source": [
        "data_new.groupby(\"Loan_Status\")['EMI'].mean().plot.bar()\n",
        "plt.show()"
      ],
      "execution_count": 258,
      "outputs": [
        {
          "output_type": "display_data",
          "data": {
            "image/png": "[encoded data removed]",
            "text/plain": [
              "<Figure size 432x288 with 1 Axes>"
            ]
          },
          "metadata": {
            "tags": []
          }
        }
      ]
    },
    {
      "cell_type": "code",
      "metadata": {
        "id": "zPKXiCU_OA_9",
        "colab": {
          "base_uri": "https://localhost:8080/",
          "height": 283
        },
        "outputId": "7585dfd4-0273-4aa2-cc63-0423bde28cc1"
      },
      "source": [
        "data_new.groupby(\"Loan_Status\")['EMI'].median().plot.bar()\n",
        "plt.show() "
      ],
      "execution_count": 259,
      "outputs": [
        {
          "output_type": "display_data",
          "data": {
            "image/png": "[encoded data removed]",
            "text/plain": [
              "<Figure size 432x288 with 1 Axes>"
            ]
          },
          "metadata": {
            "tags": []
          }
        }
      ]
    },
    {
      "cell_type": "code",
      "metadata": {
        "id": "Qq3mOUF4OxGp",
        "colab": {
          "base_uri": "https://localhost:8080/",
          "height": 283
        },
        "outputId": "3977a9cd-473f-40b4-f601-39a10bd0a43a"
      },
      "source": [
        "data_new.groupby(\"Loan_Status\")['Total_Income'].median().plot.bar()\n",
        "plt.show()"
      ],
      "execution_count": 260,
      "outputs": [
        {
          "output_type": "display_data",
          "data": {
            "image/png": "[encoded data removed]",
            "text/plain": [
              "<Figure size 432x288 with 1 Axes>"
            ]
          },
          "metadata": {
            "tags": []
          }
        }
      ]
    },
    {
      "cell_type": "code",
      "metadata": {
        "id": "gZpzw03tmSvS"
      },
      "source": [
        "data_new['LoanAmount'] = data_new['LoanAmount']*1000\n",
        "test_new['LoanAmount'] = test_new['LoanAmount']*1000"
      ],
      "execution_count": 261,
      "outputs": []
    },
    {
      "cell_type": "code",
      "metadata": {
        "id": "0HPk5ZWLl97k",
        "colab": {
          "base_uri": "https://localhost:8080/",
          "height": 283
        },
        "outputId": "06bb6178-d2c0-487a-914a-b558c8f54df0"
      },
      "source": [
        "data_new.groupby(\"Loan_Status\")['LoanAmount'].median().plot.bar()\n",
        "plt.show() "
      ],
      "execution_count": 262,
      "outputs": [
        {
          "output_type": "display_data",
          "data": {
            "image/png": "[encoded data removed]",
            "text/plain": [
              "<Figure size 432x288 with 1 Axes>"
            ]
          },
          "metadata": {
            "tags": []
          }
        }
      ]
    },
    {
      "cell_type": "markdown",
      "metadata": {
        "id": "FnTJasQ30Ak3"
      },
      "source": [
        "#### Checking for outliers :"
      ]
    },
    {
      "cell_type": "code",
      "metadata": {
        "id": "W8sNHY8I9wUe",
        "colab": {
          "base_uri": "https://localhost:8080/",
          "height": 285
        },
        "outputId": "ca148d92-edbc-46c0-941c-ae2b4c391ae6"
      },
      "source": [
        "sns.boxplot(data_new['Total_Income'])\n",
        "plt.show()"
      ],
      "execution_count": 263,
      "outputs": [
        {
          "output_type": "display_data",
          "data": {
            "image/png": "[encoded data removed]",
            "text/plain": [
              "<Figure size 432x288 with 1 Axes>"
            ]
          },
          "metadata": {
            "tags": []
          }
        }
      ]
    },
    {
      "cell_type": "code",
      "metadata": {
        "id": "yN_t5mgy93Wo",
        "colab": {
          "base_uri": "https://localhost:8080/",
          "height": 285
        },
        "outputId": "bdcff0bf-392c-46f2-a88b-2570d3bdcdfe"
      },
      "source": [
        "sns.boxplot(test_new['Total_Income'])\n",
        "plt.show()"
      ],
      "execution_count": 264,
      "outputs": [
        {
          "output_type": "display_data",
          "data": {
            "image/png": "[encoded data removed]",
            "text/plain": [
              "<Figure size 432x288 with 1 Axes>"
            ]
          },
          "metadata": {
            "tags": []
          }
        }
      ]
    },
    {
      "cell_type": "code",
      "metadata": {
        "id": "vIu5EPto-Pqr",
        "colab": {
          "base_uri": "https://localhost:8080/"
        },
        "outputId": "03a412b3-db53-4602-ddd3-7c41d467e841"
      },
      "source": [
        "data_new['Total_Income'].quantile(0.99)"
      ],
      "execution_count": 265,
      "outputs": [
        {
          "output_type": "execute_result",
          "data": {
            "text/plain": [
              "27324.719999999874"
            ]
          },
          "metadata": {
            "tags": []
          },
          "execution_count": 265
        }
      ]
    },
    {
      "cell_type": "markdown",
      "metadata": {
        "id": "qDneaJhS9ep0"
      },
      "source": [
        "#### Scaling :"
      ]
    },
    {
      "cell_type": "code",
      "metadata": {
        "id": "nrMbVCZ09gjt"
      },
      "source": [
        "scaler = MinMaxScaler()\n",
        "data_new[['LoanAmount','Loan_Amount_Term','Total_Income','Coapplicant_share','EMI','Monthly_savings','Monthly_savings%']] = scaler.fit_transform(data_new[['LoanAmount','Loan_Amount_Term','Total_Income','Coapplicant_share','EMI','Monthly_savings','Monthly_savings%']])\n",
        "test_new[['LoanAmount','Loan_Amount_Term','Total_Income','Coapplicant_share','EMI','Monthly_savings','Monthly_savings%']] = scaler.transform(test_new[['LoanAmount','Loan_Amount_Term','Total_Income','Coapplicant_share','EMI','Monthly_savings','Monthly_savings%']])"
      ],
      "execution_count": 266,
      "outputs": []
    },
    {
      "cell_type": "markdown",
      "metadata": {
        "id": "-6aNeyS8sjJq"
      },
      "source": [
        "#### Creating Dummy Variables :"
      ]
    },
    {
      "cell_type": "code",
      "metadata": {
        "id": "gsCPKjUsksdp",
        "colab": {
          "base_uri": "https://localhost:8080/"
        },
        "outputId": "6d2ef1e2-d2e6-4050-eda0-4e16618ca687"
      },
      "source": [
        "data_new['Loan_Amount_Term'].value_counts()"
      ],
      "execution_count": 267,
      "outputs": [
        {
          "output_type": "execute_result",
          "data": {
            "text/plain": [
              "0.666667    510\n",
              "0.166667     43\n",
              "0.500000     26\n",
              "1.000000     14\n",
              "0.000000     12\n",
              "0.333333      3\n",
              "Name: Loan_Amount_Term, dtype: int64"
            ]
          },
          "metadata": {
            "tags": []
          },
          "execution_count": 267
        }
      ]
    },
    {
      "cell_type": "code",
      "metadata": {
        "colab": {
          "base_uri": "https://localhost:8080/"
        },
        "id": "XLAkB2w7vO4A",
        "outputId": "1e26c807-db34-4acc-aeab-925f1b70df95"
      },
      "source": [
        "test_new['Loan_Amount_Term'].value_counts()"
      ],
      "execution_count": 268,
      "outputs": [
        {
          "output_type": "execute_result",
          "data": {
            "text/plain": [
              "0.666667    312\n",
              "0.166667     22\n",
              "0.500000     13\n",
              "1.000000      8\n",
              "0.000000      8\n",
              "0.333333      4\n",
              "Name: Loan_Amount_Term, dtype: int64"
            ]
          },
          "metadata": {
            "tags": []
          },
          "execution_count": 268
        }
      ]
    },
    {
      "cell_type": "code",
      "metadata": {
        "id": "GhXVzLk3IRyo",
        "colab": {
          "base_uri": "https://localhost:8080/",
          "height": 35
        },
        "outputId": "9faae329-70c4-4b59-ccb9-8635945e414c"
      },
      "source": [
        "'''data_new['Loan_Amount_Term'] = data_new['Loan_Amount_Term'].astype(object)\n",
        "test_new['Loan_Amount_Term'] = test_new['Loan_Amount_Term'].astype(object)'''"
      ],
      "execution_count": 269,
      "outputs": [
        {
          "output_type": "execute_result",
          "data": {
            "application/vnd.google.colaboratory.intrinsic+json": {
              "type": "string"
            },
            "text/plain": [
              "\"data_new['Loan_Amount_Term'] = data_new['Loan_Amount_Term'].astype(object)\\ntest_new['Loan_Amount_Term'] = test_new['Loan_Amount_Term'].astype(object)\""
            ]
          },
          "metadata": {
            "tags": []
          },
          "execution_count": 269
        }
      ]
    },
    {
      "cell_type": "code",
      "metadata": {
        "id": "hGHdsj_0sl7n"
      },
      "source": [
        "#data_new = pd.get_dummies(data_new,columns = ['Gender','Married'],drop_first=True)\n",
        "#test_new = pd.get_dummies(test_new,columns = ['Gender','Married'],drop_first=True)\n",
        "data_new = pd.get_dummies(data_new,columns=['Gender','Married','Dependents','Education','Self_Employed','Property_Area'])\n",
        "test_new = pd.get_dummies(test_new,columns=['Gender','Married','Dependents','Education','Self_Employed','Property_Area'])"
      ],
      "execution_count": 270,
      "outputs": []
    },
    {
      "cell_type": "code",
      "metadata": {
        "id": "iyUC56eDtdT8",
        "colab": {
          "base_uri": "https://localhost:8080/",
          "height": 232
        },
        "outputId": "c1e7f5cf-416e-4b87-b786-71dddf01077b"
      },
      "source": [
        "data_new.head()"
      ],
      "execution_count": 271,
      "outputs": [
        {
          "output_type": "execute_result",
          "data": {
            "text/html": [
              "<div>\n",
              "<style scoped>\n",
              "    .dataframe tbody tr th:only-of-type {\n",
              "        vertical-align: middle;\n",
              "    }\n",
              "\n",
              "    .dataframe tbody tr th {\n",
              "        vertical-align: top;\n",
              "    }\n",
              "\n",
              "    .dataframe thead th {\n",
              "        text-align: right;\n",
              "    }\n",
              "</style>\n",
              "<table border=\"1\" class=\"dataframe\">\n",
              "  <thead>\n",
              "    <tr style=\"text-align: right;\">\n",
              "      <th></th>\n",
              "      <th>LoanAmount</th>\n",
              "      <th>Loan_Amount_Term</th>\n",
              "      <th>Credit_History</th>\n",
              "      <th>Loan_Status</th>\n",
              "      <th>Total_Income</th>\n",
              "      <th>Coapplicant_share</th>\n",
              "      <th>EMI</th>\n",
              "      <th>Monthly_savings</th>\n",
              "      <th>Monthly_savings%</th>\n",
              "      <th>ApplicantIncome_savings_less</th>\n",
              "      <th>Coapplicant_Dependent</th>\n",
              "      <th>Gender_Female</th>\n",
              "      <th>Gender_Male</th>\n",
              "      <th>Married_No</th>\n",
              "      <th>Married_Yes</th>\n",
              "      <th>Dependents_0</th>\n",
              "      <th>Dependents_1</th>\n",
              "      <th>Dependents_2</th>\n",
              "      <th>Dependents_3+</th>\n",
              "      <th>Education_Graduate</th>\n",
              "      <th>Education_Not Graduate</th>\n",
              "      <th>Self_Employed_No</th>\n",
              "      <th>Self_Employed_Yes</th>\n",
              "      <th>Property_Area_Rural</th>\n",
              "      <th>Property_Area_Semiurban</th>\n",
              "      <th>Property_Area_Urban</th>\n",
              "    </tr>\n",
              "  </thead>\n",
              "  <tbody>\n",
              "    <tr>\n",
              "      <th>0</th>\n",
              "      <td>0.201222</td>\n",
              "      <td>0.666667</td>\n",
              "      <td>1.0</td>\n",
              "      <td>Y</td>\n",
              "      <td>0.103804</td>\n",
              "      <td>0.000000</td>\n",
              "      <td>0.108298</td>\n",
              "      <td>0.255577</td>\n",
              "      <td>0.839239</td>\n",
              "      <td>0</td>\n",
              "      <td>0</td>\n",
              "      <td>0</td>\n",
              "      <td>1</td>\n",
              "      <td>1</td>\n",
              "      <td>0</td>\n",
              "      <td>1</td>\n",
              "      <td>0</td>\n",
              "      <td>0</td>\n",
              "      <td>0</td>\n",
              "      <td>1</td>\n",
              "      <td>0</td>\n",
              "      <td>1</td>\n",
              "      <td>0</td>\n",
              "      <td>0</td>\n",
              "      <td>0</td>\n",
              "      <td>1</td>\n",
              "    </tr>\n",
              "    <tr>\n",
              "      <th>1</th>\n",
              "      <td>0.185647</td>\n",
              "      <td>0.666667</td>\n",
              "      <td>1.0</td>\n",
              "      <td>N</td>\n",
              "      <td>0.109504</td>\n",
              "      <td>0.250076</td>\n",
              "      <td>0.099916</td>\n",
              "      <td>0.266649</td>\n",
              "      <td>0.858902</td>\n",
              "      <td>0</td>\n",
              "      <td>0</td>\n",
              "      <td>0</td>\n",
              "      <td>1</td>\n",
              "      <td>0</td>\n",
              "      <td>1</td>\n",
              "      <td>0</td>\n",
              "      <td>1</td>\n",
              "      <td>0</td>\n",
              "      <td>0</td>\n",
              "      <td>1</td>\n",
              "      <td>0</td>\n",
              "      <td>1</td>\n",
              "      <td>0</td>\n",
              "      <td>1</td>\n",
              "      <td>0</td>\n",
              "      <td>0</td>\n",
              "    </tr>\n",
              "    <tr>\n",
              "      <th>2</th>\n",
              "      <td>0.088924</td>\n",
              "      <td>0.666667</td>\n",
              "      <td>1.0</td>\n",
              "      <td>Y</td>\n",
              "      <td>0.036698</td>\n",
              "      <td>0.000000</td>\n",
              "      <td>0.047859</td>\n",
              "      <td>0.246918</td>\n",
              "      <td>0.851394</td>\n",
              "      <td>0</td>\n",
              "      <td>0</td>\n",
              "      <td>0</td>\n",
              "      <td>1</td>\n",
              "      <td>0</td>\n",
              "      <td>1</td>\n",
              "      <td>1</td>\n",
              "      <td>0</td>\n",
              "      <td>0</td>\n",
              "      <td>0</td>\n",
              "      <td>1</td>\n",
              "      <td>0</td>\n",
              "      <td>0</td>\n",
              "      <td>1</td>\n",
              "      <td>0</td>\n",
              "      <td>0</td>\n",
              "      <td>1</td>\n",
              "    </tr>\n",
              "    <tr>\n",
              "      <th>3</th>\n",
              "      <td>0.173167</td>\n",
              "      <td>0.666667</td>\n",
              "      <td>1.0</td>\n",
              "      <td>Y</td>\n",
              "      <td>0.082417</td>\n",
              "      <td>0.481972</td>\n",
              "      <td>0.093199</td>\n",
              "      <td>0.249634</td>\n",
              "      <td>0.833928</td>\n",
              "      <td>1</td>\n",
              "      <td>0</td>\n",
              "      <td>0</td>\n",
              "      <td>1</td>\n",
              "      <td>0</td>\n",
              "      <td>1</td>\n",
              "      <td>1</td>\n",
              "      <td>0</td>\n",
              "      <td>0</td>\n",
              "      <td>0</td>\n",
              "      <td>0</td>\n",
              "      <td>1</td>\n",
              "      <td>1</td>\n",
              "      <td>0</td>\n",
              "      <td>0</td>\n",
              "      <td>0</td>\n",
              "      <td>1</td>\n",
              "    </tr>\n",
              "    <tr>\n",
              "      <th>4</th>\n",
              "      <td>0.205928</td>\n",
              "      <td>0.666667</td>\n",
              "      <td>1.0</td>\n",
              "      <td>Y</td>\n",
              "      <td>0.107361</td>\n",
              "      <td>0.000000</td>\n",
              "      <td>0.110831</td>\n",
              "      <td>0.256549</td>\n",
              "      <td>0.839949</td>\n",
              "      <td>0</td>\n",
              "      <td>0</td>\n",
              "      <td>0</td>\n",
              "      <td>1</td>\n",
              "      <td>1</td>\n",
              "      <td>0</td>\n",
              "      <td>1</td>\n",
              "      <td>0</td>\n",
              "      <td>0</td>\n",
              "      <td>0</td>\n",
              "      <td>1</td>\n",
              "      <td>0</td>\n",
              "      <td>1</td>\n",
              "      <td>0</td>\n",
              "      <td>0</td>\n",
              "      <td>0</td>\n",
              "      <td>1</td>\n",
              "    </tr>\n",
              "  </tbody>\n",
              "</table>\n",
              "</div>"
            ],
            "text/plain": [
              "   LoanAmount  Loan_Amount_Term  Credit_History Loan_Status  Total_Income  \\\n",
              "0    0.201222          0.666667             1.0           Y      0.103804   \n",
              "1    0.185647          0.666667             1.0           N      0.109504   \n",
              "2    0.088924          0.666667             1.0           Y      0.036698   \n",
              "3    0.173167          0.666667             1.0           Y      0.082417   \n",
              "4    0.205928          0.666667             1.0           Y      0.107361   \n",
              "\n",
              "   Coapplicant_share       EMI  Monthly_savings  Monthly_savings%  \\\n",
              "0           0.000000  0.108298         0.255577          0.839239   \n",
              "1           0.250076  0.099916         0.266649          0.858902   \n",
              "2           0.000000  0.047859         0.246918          0.851394   \n",
              "3           0.481972  0.093199         0.249634          0.833928   \n",
              "4           0.000000  0.110831         0.256549          0.839949   \n",
              "\n",
              "   ApplicantIncome_savings_less  Coapplicant_Dependent  Gender_Female  \\\n",
              "0                             0                      0              0   \n",
              "1                             0                      0              0   \n",
              "2                             0                      0              0   \n",
              "3                             1                      0              0   \n",
              "4                             0                      0              0   \n",
              "\n",
              "   Gender_Male  Married_No  Married_Yes  Dependents_0  Dependents_1  \\\n",
              "0            1           1            0             1             0   \n",
              "1            1           0            1             0             1   \n",
              "2            1           0            1             1             0   \n",
              "3            1           0            1             1             0   \n",
              "4            1           1            0             1             0   \n",
              "\n",
              "   Dependents_2  Dependents_3+  Education_Graduate  Education_Not Graduate  \\\n",
              "0             0              0                   1                       0   \n",
              "1             0              0                   1                       0   \n",
              "2             0              0                   1                       0   \n",
              "3             0              0                   0                       1   \n",
              "4             0              0                   1                       0   \n",
              "\n",
              "   Self_Employed_No  Self_Employed_Yes  Property_Area_Rural  \\\n",
              "0                 1                  0                    0   \n",
              "1                 1                  0                    1   \n",
              "2                 0                  1                    0   \n",
              "3                 1                  0                    0   \n",
              "4                 1                  0                    0   \n",
              "\n",
              "   Property_Area_Semiurban  Property_Area_Urban  \n",
              "0                        0                    1  \n",
              "1                        0                    0  \n",
              "2                        0                    1  \n",
              "3                        0                    1  \n",
              "4                        0                    1  "
            ]
          },
          "metadata": {
            "tags": []
          },
          "execution_count": 271
        }
      ]
    },
    {
      "cell_type": "code",
      "metadata": {
        "id": "udzVkl2Xtyto"
      },
      "source": [
        "data_new['Loan_Status'] = data_new['Loan_Status'].map({'Y':1,'N':0})\n",
        "y = data_new['Loan_Status']\n",
        "X = data_new.drop(['Loan_Status'],axis=1)"
      ],
      "execution_count": 272,
      "outputs": []
    },
    {
      "cell_type": "code",
      "metadata": {
        "id": "U16A5NE7dma-",
        "colab": {
          "base_uri": "https://localhost:8080/"
        },
        "outputId": "bb1625ea-2e93-4dfc-9972-27165bed2cb7"
      },
      "source": [
        "print(X.shape)\n",
        "print(test_new.shape)"
      ],
      "execution_count": 273,
      "outputs": [
        {
          "output_type": "stream",
          "text": [
            "(608, 25)\n",
            "(367, 25)\n"
          ],
          "name": "stdout"
        }
      ]
    },
    {
      "cell_type": "code",
      "metadata": {
        "id": "rQvSvzj8aLTW"
      },
      "source": [
        "X_train,X_test,y_train,y_test = train_test_split(X,y,test_size=0.20,stratify=y,random_state=42)"
      ],
      "execution_count": 274,
      "outputs": []
    },
    {
      "cell_type": "markdown",
      "metadata": {
        "id": "1xOob66JGWV3"
      },
      "source": [
        "### Modelling :"
      ]
    },
    {
      "cell_type": "markdown",
      "metadata": {
        "id": "xEVYpWueGWV3"
      },
      "source": [
        "### 1) RandomForest Classifier-1 :"
      ]
    },
    {
      "cell_type": "markdown",
      "metadata": {
        "id": "lYdPenhnLQ8a"
      },
      "source": [
        "### Grid-Search Cross Validation :"
      ]
    },
    {
      "cell_type": "code",
      "metadata": {
        "id": "1wcRmQ1zozhk"
      },
      "source": [
        "rf = RandomForestClassifier(random_state=42, n_jobs=-1) "
      ],
      "execution_count": 275,
      "outputs": []
    },
    {
      "cell_type": "code",
      "metadata": {
        "colab": {
          "base_uri": "https://localhost:8080/"
        },
        "id": "lDpgiaN6mQg-",
        "outputId": "3a3c3b9d-f399-4e64-a2ca-815c74678ec1"
      },
      "source": [
        "param_grid = {'class_weight':['balanced','None'],\n",
        "              'criterion':['entropy','gini'],\n",
        "              'max_depth' : [8,9,10,11],\n",
        "              'max_features' : [0.8,0.9,1],\n",
        "              'max_samples' : [0.6,0.7,0.8]} \n",
        "grid_search = GridSearchCV(estimator = rf,param_grid=param_grid,cv = 5,scoring = 'recall', n_jobs=-1,verbose=1)\n",
        "grid_search.fit(X_train,y_train)"
      ],
      "execution_count": 277,
      "outputs": [
        {
          "output_type": "stream",
          "text": [
            "Fitting 5 folds for each of 144 candidates, totalling 720 fits\n"
          ],
          "name": "stdout"
        },
        {
          "output_type": "stream",
          "text": [
            "[Parallel(n_jobs=-1)]: Using backend LokyBackend with 2 concurrent workers.\n",
            "[Parallel(n_jobs=-1)]: Done  46 tasks      | elapsed:   14.5s\n",
            "[Parallel(n_jobs=-1)]: Done 196 tasks      | elapsed:   56.9s\n",
            "[Parallel(n_jobs=-1)]: Done 720 out of 720 | elapsed:  1.6min finished\n"
          ],
          "name": "stderr"
        },
        {
          "output_type": "execute_result",
          "data": {
            "text/plain": [
              "GridSearchCV(cv=5, error_score=nan,\n",
              "             estimator=RandomForestClassifier(bootstrap=True, ccp_alpha=0.0,\n",
              "                                              class_weight=None,\n",
              "                                              criterion='gini', max_depth=None,\n",
              "                                              max_features='auto',\n",
              "                                              max_leaf_nodes=None,\n",
              "                                              max_samples=None,\n",
              "                                              min_impurity_decrease=0.0,\n",
              "                                              min_impurity_split=None,\n",
              "                                              min_samples_leaf=1,\n",
              "                                              min_samples_split=2,\n",
              "                                              min_weight_fraction_leaf=0.0,\n",
              "                                              n_estimators=100, n_jobs=-1,\n",
              "                                              oob_score=False, random_state=42,\n",
              "                                              verbose=0, warm_start=False),\n",
              "             iid='deprecated', n_jobs=-1,\n",
              "             param_grid={'class_weight': ['balanced', 'None'],\n",
              "                         'criterion': ['entropy', 'gini'],\n",
              "                         'max_depth': [8, 9, 10, 11],\n",
              "                         'max_features': [0.8, 0.9, 1],\n",
              "                         'max_samples': [0.6, 0.7, 0.8]},\n",
              "             pre_dispatch='2*n_jobs', refit=True, return_train_score=False,\n",
              "             scoring='recall', verbose=1)"
            ]
          },
          "metadata": {
            "tags": []
          },
          "execution_count": 277
        }
      ]
    },
    {
      "cell_type": "code",
      "metadata": {
        "colab": {
          "base_uri": "https://localhost:8080/"
        },
        "id": "23osfDE-s6yz",
        "outputId": "03ef47e0-03f7-491f-d8ca-9c9df3288532"
      },
      "source": [
        "print(grid_search.best_score_)\n",
        "print(grid_search.best_params_)"
      ],
      "execution_count": 278,
      "outputs": [
        {
          "output_type": "stream",
          "text": [
            "0.9431478968792402\n",
            "{'class_weight': 'balanced', 'criterion': 'gini', 'max_depth': 10, 'max_features': 0.8, 'max_samples': 0.6}\n"
          ],
          "name": "stdout"
        }
      ]
    },
    {
      "cell_type": "code",
      "metadata": {
        "id": "tKwtGbFEpBC6"
      },
      "source": [
        "ebetbtby"
      ],
      "execution_count": null,
      "outputs": []
    },
    {
      "cell_type": "code",
      "metadata": {
        "id": "WWHrG_M5reaF",
        "colab": {
          "base_uri": "https://localhost:8080/"
        },
        "outputId": "47285f03-f898-4efa-b323-2fad5bc9c4d2"
      },
      "source": [
        "rf = RandomForestClassifier(class_weight='balanced',criterion='gini',max_depth=10,max_features=0.8,max_samples=0.6)\n",
        "rf.fit(X_train,y_train)"
      ],
      "execution_count": 281,
      "outputs": [
        {
          "output_type": "execute_result",
          "data": {
            "text/plain": [
              "RandomForestClassifier(bootstrap=True, ccp_alpha=0.0, class_weight='balanced',\n",
              "                       criterion='gini', max_depth=10, max_features=0.8,\n",
              "                       max_leaf_nodes=None, max_samples=0.6,\n",
              "                       min_impurity_decrease=0.0, min_impurity_split=None,\n",
              "                       min_samples_leaf=1, min_samples_split=2,\n",
              "                       min_weight_fraction_leaf=0.0, n_estimators=100,\n",
              "                       n_jobs=None, oob_score=False, random_state=None,\n",
              "                       verbose=0, warm_start=False)"
            ]
          },
          "metadata": {
            "tags": []
          },
          "execution_count": 281
        }
      ]
    },
    {
      "cell_type": "code",
      "metadata": {
        "id": "LCy1KMEZ3fpN"
      },
      "source": [
        "y_test_prob = rf.predict_proba(X_test)\n",
        "y_test = rf.predict(X_test)"
      ],
      "execution_count": 283,
      "outputs": []
    },
    {
      "cell_type": "code",
      "metadata": {
        "id": "DBLuV0yawXV7",
        "colab": {
          "base_uri": "https://localhost:8080/"
        },
        "outputId": "0bc123dd-801a-42bf-f4a5-8e2b0649d4c9"
      },
      "source": [
        "accuracy_score(y_test,y_test_pred)"
      ],
      "execution_count": 285,
      "outputs": [
        {
          "output_type": "execute_result",
          "data": {
            "text/plain": [
              "0.9672131147540983"
            ]
          },
          "metadata": {
            "tags": []
          },
          "execution_count": 285
        }
      ]
    },
    {
      "cell_type": "code",
      "metadata": {
        "id": "5MzyfF8cVXXD",
        "colab": {
          "base_uri": "https://localhost:8080/"
        },
        "outputId": "45464994-406a-4bff-bd2d-1949e5fe19be"
      },
      "source": [
        "y_test_pred = pd.Series(y_test_pred)\n",
        "y_test_pred.value_counts(normalize=True)"
      ],
      "execution_count": 286,
      "outputs": [
        {
          "output_type": "execute_result",
          "data": {
            "text/plain": [
              "1    0.795082\n",
              "0    0.204918\n",
              "dtype: float64"
            ]
          },
          "metadata": {
            "tags": []
          },
          "execution_count": 286
        }
      ]
    },
    {
      "cell_type": "code",
      "metadata": {
        "id": "xE9UaBxqX4Hb",
        "colab": {
          "base_uri": "https://localhost:8080/"
        },
        "outputId": "842b7744-8af4-4b42-916c-e6c99369b2fd"
      },
      "source": [
        "y_test = pd.Series(y_test)\n",
        "y_test.value_counts(normalize=True)"
      ],
      "execution_count": 287,
      "outputs": [
        {
          "output_type": "execute_result",
          "data": {
            "text/plain": [
              "1    0.778689\n",
              "0    0.221311\n",
              "dtype: float64"
            ]
          },
          "metadata": {
            "tags": []
          },
          "execution_count": 287
        }
      ]
    },
    {
      "cell_type": "code",
      "metadata": {
        "id": "i3O3qptfYPIz",
        "colab": {
          "base_uri": "https://localhost:8080/"
        },
        "outputId": "6e6a2a65-404b-4e30-f9cb-56b4fff91243"
      },
      "source": [
        "y_train = pd.Series(y_train)\n",
        "y_train.value_counts(normalize=True)"
      ],
      "execution_count": 288,
      "outputs": [
        {
          "output_type": "execute_result",
          "data": {
            "text/plain": [
              "1    0.685185\n",
              "0    0.314815\n",
              "Name: Loan_Status, dtype: float64"
            ]
          },
          "metadata": {
            "tags": []
          },
          "execution_count": 288
        }
      ]
    },
    {
      "cell_type": "markdown",
      "metadata": {
        "id": "BsloD3M-4qEN"
      },
      "source": [
        "### Plotting the feature importances :"
      ]
    },
    {
      "cell_type": "code",
      "metadata": {
        "id": "wDnchRbqyeRh",
        "colab": {
          "base_uri": "https://localhost:8080/",
          "height": 594
        },
        "outputId": "23ba994e-4357-4d2f-c2ea-c914a6a03c88"
      },
      "source": [
        "df = pd.DataFrame()\n",
        "df['Features'] = pd.Series(list(X_train.columns))\n",
        "df['Importances'] = rf.feature_importances_\n",
        "df = df.sort_values(by='Importances',ascending=False)\n",
        "df1 = df.set_index('Features')\n",
        "sns.set(font_scale=1)\n",
        "df1.plot(kind='barh',figsize=(15,10))\n",
        "plt.show() "
      ],
      "execution_count": 289,
      "outputs": [
        {
          "output_type": "display_data",
          "data": {
            "image/png": "[encoded data removed]",
            "text/plain": [
              "<Figure size 1080x720 with 1 Axes>"
            ]
          },
          "metadata": {
            "tags": []
          }
        }
      ]
    },
    {
      "cell_type": "markdown",
      "metadata": {
        "id": "t7WyCf6FIgJT"
      },
      "source": [
        "#### So based on the above RandomForest model it can be clearly seen that the most important features effecting approval/not-approval are as follows :\n",
        "- Credit_History\n",
        "- Total_Income\n",
        "- Coapplicant_share\n",
        "- Monthly_savings%\n",
        "- EMI\n"
      ]
    },
    {
      "cell_type": "code",
      "metadata": {
        "id": "UYuA1Df9GWMF",
        "colab": {
          "base_uri": "https://localhost:8080/"
        },
        "outputId": "cb34dc71-cb3d-4c28-f5ae-d417f3b5a5e9"
      },
      "source": [
        "# The approval probabilities of all the instances based on RandomForest Model :\n",
        "y_test_prob = y_test_prob[:,1]\n",
        "y_test_prob "
      ],
      "execution_count": 290,
      "outputs": [
        {
          "output_type": "execute_result",
          "data": {
            "text/plain": [
              "array([0.86      , 0.68933606, 0.57742707, 0.77708545, 0.97938127,\n",
              "       0.68091519, 0.85938127, 0.89748836, 0.61524452, 0.53762821,\n",
              "       0.70375595, 0.84514544, 0.        , 0.80441364, 0.82219209,\n",
              "       0.78525797, 0.72231313, 0.61393306, 0.79683364, 0.68295017,\n",
              "       0.78153919, 0.80527527, 0.1       , 0.56313475, 0.7387807 ,\n",
              "       0.70127292, 0.05      , 0.96616203, 0.55438941, 0.06      ,\n",
              "       0.66156453, 0.76649746, 0.79481407, 0.56728727, 0.69439451,\n",
              "       0.11      , 0.8301744 , 0.53      , 0.77420147, 0.47197717,\n",
              "       0.94407219, 0.55386726, 0.80629953, 0.91309932, 0.86144952,\n",
              "       0.08      , 0.53545676, 0.16      , 0.48717618, 0.8101744 ,\n",
              "       0.6269931 , 0.1       , 0.95938127, 0.88040839, 0.66475253,\n",
              "       0.17      , 0.33823293, 0.60905664, 0.96143175, 0.91871115,\n",
              "       0.80118524, 0.66625448, 0.76710815, 0.07      , 0.76333168,\n",
              "       0.76791609, 0.61664495, 0.94501973, 0.16      , 0.66224258,\n",
              "       0.86794716, 0.95229387, 0.69779777, 0.78647619, 0.8283373 ,\n",
              "       0.75239816, 0.56264901, 0.06      , 0.49157363, 0.07      ,\n",
              "       0.67212236, 0.62      , 0.94709085, 0.81846979, 0.74968941,\n",
              "       0.37123596, 0.85411836, 0.02      , 0.18      , 0.89938127,\n",
              "       0.09      , 0.06      , 0.66367545, 0.98417149, 0.88750538,\n",
              "       0.83674582, 0.6326213 , 0.88134061, 0.7501804 , 0.33      ,\n",
              "       0.91245003, 0.94465704, 0.74576353, 0.99868316, 0.96985612,\n",
              "       0.61      , 0.96894481, 0.50571152, 0.53150404, 0.53561987,\n",
              "       0.89685778, 0.41      , 0.35      , 0.83786453, 0.16      ,\n",
              "       0.83183131, 0.78039069, 0.79629588, 0.23      , 0.82537656,\n",
              "       0.74288439, 0.78919098])"
            ]
          },
          "metadata": {
            "tags": []
          },
          "execution_count": 290
        }
      ]
    },
    {
      "cell_type": "markdown",
      "metadata": {
        "id": "eB_NyMTgveRu"
      },
      "source": [
        "#### Making the submission to leaderboard :"
      ]
    },
    {
      "cell_type": "code",
      "metadata": {
        "id": "HwLeemfUw9fC"
      },
      "source": [
        "X['Loan_ID'] = loan_ids_train\n",
        "X['Loan_ID'] = X['Loan_ID'].str.lstrip('LP00')"
      ],
      "execution_count": null,
      "outputs": []
    },
    {
      "cell_type": "code",
      "metadata": {
        "id": "wE_UPObfxi-H"
      },
      "source": [
        "test_new['Loan_ID'] = loan_ids_test\n",
        "test_new['Loan_ID'] = test_new['Loan_ID'].str.lstrip('LP00')"
      ],
      "execution_count": null,
      "outputs": []
    },
    {
      "cell_type": "code",
      "metadata": {
        "id": "LofifjFCxcfV"
      },
      "source": [
        "X['Loan_ID'] = X['Loan_ID'].astype(int)\n",
        "test_new['Loan_ID'] = test_new['Loan_ID'].astype(int)"
      ],
      "execution_count": null,
      "outputs": []
    },
    {
      "cell_type": "code",
      "metadata": {
        "id": "OaZAclsn72uF"
      },
      "source": [
        "test_new.head()"
      ],
      "execution_count": null,
      "outputs": []
    },
    {
      "cell_type": "code",
      "metadata": {
        "id": "4gXKtKj174av"
      },
      "source": [
        "X.head()"
      ],
      "execution_count": null,
      "outputs": []
    },
    {
      "cell_type": "code",
      "metadata": {
        "id": "P8f7vmMwviOg"
      },
      "source": [
        "rf = RandomForestClassifier(class_weight='balanced',criterion='entropy',max_depth=10,max_features=1.0,max_samples=0.7,random_state=42)\n",
        "rf.fit(X,y)\n",
        "y_pred = rf.predict(test_new)"
      ],
      "execution_count": null,
      "outputs": []
    },
    {
      "cell_type": "code",
      "metadata": {
        "id": "ZRhUmRdTvOZI"
      },
      "source": [
        "y_pred = rf.predict(test_new)"
      ],
      "execution_count": null,
      "outputs": []
    },
    {
      "cell_type": "code",
      "metadata": {
        "id": "wRlUwkW1syni"
      },
      "source": [
        "submissions = pd.DataFrame()\n",
        "submissions['Loan_ID'] = loan_ids_test\n",
        "submissions['Loan_Status'] = y_pred"
      ],
      "execution_count": null,
      "outputs": []
    },
    {
      "cell_type": "code",
      "metadata": {
        "id": "ToVwmM4VgByu"
      },
      "source": [
        "submissions['Loan_Status'] = submissions['Loan_Status'].map({1:'Y',0:'N'})\n",
        "submissions.head()"
      ],
      "execution_count": null,
      "outputs": []
    },
    {
      "cell_type": "code",
      "metadata": {
        "id": "4XNKGFYJKqdl"
      },
      "source": [
        "submissions['Loan_Status'].value_counts(normalize=True)"
      ],
      "execution_count": null,
      "outputs": []
    },
    {
      "cell_type": "code",
      "metadata": {
        "id": "s0x8lOF2gBKV"
      },
      "source": [
        "submissions.to_csv('submissions-1.csv',index=False,encoding='utf-8')"
      ],
      "execution_count": null,
      "outputs": []
    },
    {
      "cell_type": "markdown",
      "metadata": {
        "id": "IiI9SAS7KUCN"
      },
      "source": [
        "#### Hence making the above submission, an accuracy of slightly over 80% has been achieved in the final submissions."
      ]
    }
  ]
}